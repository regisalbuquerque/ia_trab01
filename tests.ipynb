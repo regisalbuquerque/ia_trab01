{
 "cells": [
  {
   "cell_type": "markdown",
   "id": "4f8845e3",
   "metadata": {},
   "source": [
    "# Trabalho de Aprendizado de Máquina \n",
    "---\n",
    "## Disciplina: Inteligência Artificial - PCI\n",
    "### **Professora: Dra. Aline Paes**\n",
    "### **Alunos:**\n",
    "*   **Régis Antônio Saraiva Albuquerque**\n",
    "*   **Wilker Luiz Gadelha Maia**"
   ]
  },
  {
   "cell_type": "markdown",
   "id": "175910b0",
   "metadata": {},
   "source": [
    "# Relatório de Experimentos com Algoritmos de Aprendizado de Máquina"
   ]
  },
  {
   "cell_type": "markdown",
   "id": "f8b23647",
   "metadata": {},
   "source": [
    "# Introdução\n",
    "\n",
    "Este relatório apresenta experimentos com algoritmos de redes neurais existentes na plataforma scikit-learn. Foram realizados treinamentos e testes utilizando uma base de dados de classificação textual, a fim de observar métricas de acurácia, precisão, recall (revocação) e F1-Score. Antes da realização dos testes foram realizadas limpezas e normalizações na base. Foram utilizadas duas técnicas de representação textual nos experimentos: bag of words e representação vetorial densa. Por fim, foram feitas experimentações nas alterações de hiperparâmetros. "
   ]
  },
  {
   "cell_type": "markdown",
   "id": "8948ff42",
   "metadata": {},
   "source": [
    "# Metodologia experimental\n",
    "\n",
    "Para a experimentação foi utilizado a linguagem Python 3 com a biblioteca open source de aprendizado de máquina Scikit-learn (https://scikit-learn.org/stable/). Todos os testes foram realizados no computador com a seguinte configuração: processador Intel Corei7-9750H de 2.60GHz, 15,5 GiB de memória RAM, 64 bits, placa de vídeo GeForce GTX 1660 Ti Mobile e Internet com velocidade de 300Mbps. O sistema operacional utilizado para os testes foi a distribuição GNU/Linux Ubuntu 22.04.1 LTS (Jammy Jellyfish).\n",
    "\n",
    "## Os passos realizados foram:\n",
    "\n",
    "1. Escolha da base de dados de classificação textual em PT-BR\n",
    "2. Estudo da base de dados e preparação da base\n",
    "3. Limpeza e normalização\n",
    "4. Realização de validação cruzada \n",
    "5. Escolha do classificador de redes neurais\n",
    "6. Experimentação utilizando técnica de bag of words\n",
    "7. Utilização de métricas de teste (descritas na próxima seção)\n",
    "8. Experimentações nas alterações de hiperparâmetros\n",
    "9. Experimentação utilizando técnica de representação vetorial densa\n",
    "\n",
    "\n",
    "## Métricas de Teste\n",
    "\n",
    "**Acurácia**: Mede o quão frequente um classificador está correto?\n",
    "\n",
    "```\n",
    "Acurácia = quantidade de acerto / (quantidade de acertos - quantidade de erros)\n",
    "```\n",
    "\n",
    "**Matriz de Confusão**: Consiste em uma tabela que permite visualizar o desempenho de um algoritmo de classificação. As linhas da matriz representam instâncias de uma classe prevista enquanto as colunas representa instâncias da classe atual. Ela permite fazermos uma análise mais detalhada da situação do nosso classificador uma vez que ela distingue nossos resultados em quatro classes. Para um problema relacionado a identificação se determinado e-mail é spam ou não:\n",
    "\n",
    "```\n",
    "*   Verdadeiros Positivos(True positive): casos em que retornamos a classe SPAM e o e-mail realmente era de spam.\n",
    "*   Falsos positivos(False positives): casos em que retornamos a classe SPAM e na verdade eram e-mails comuns.\n",
    "*   Falsos Verdadeiros (True Negative): casos que retornamos que era e-mail comum (ausência de spam) e realmente eram.\n",
    "*   Falsos Negativos (False Negative): retornamos que não eram spam e na verdade eram spam.\n",
    "\n",
    "```\n",
    "\n",
    "**Precisão**: De todas as classificações de classe Positivo que o modelo fez, quantas estão corretas? A fórmula é dada por:\n",
    "\n",
    "```\n",
    "Precisão = Verdadeiros Positivos / (Verdadeiros Positivos + Falsos Positivo)\n",
    "```\n",
    "\n",
    "**Recall (Revocação)**: Entre todas as amostras que realmente eram de uma classe, qual a proporção classificada como da classe. A fórmula é dada por:\n",
    "\n",
    "```\n",
    "Recall = Verdadeiros Positivos / (Verdadeiros Positivos + Falsos Negativos)\n",
    "```\n",
    "\n",
    "**F1-Score**: Consiste na média harmônica entre precisão e recall. Esta medida une precisão e recall em apenas uma medida.\n",
    "\n",
    "```\n",
    "F1 = 2 * precisão * recall / (precisão + recall)\n",
    "```"
   ]
  },
  {
   "cell_type": "markdown",
   "id": "be4e1c90",
   "metadata": {},
   "source": [
    "# Descrição da base e Análise Exploratório \n",
    "\n",
    "\n",
    "A base de dados foi escolhida do conjunto de bases presente nesta url: https://forum.ailab.unb.br/t/datasets-em-portugues/251;\n",
    "\n",
    "Base Escolhida: B2W-Reviews01\n",
    "```\n",
    "B2W-Reviews01 é um corpus aberto de reviews de produtos. Ele contém mais de 130 mil avaliações de clientes de comércio eletrônico, coletadas no site da Americanas.com entre janeiro e maio de 2018. O B2W-Reviews01 oferece informações valiosas sobre o perfil do avaliador, como sexo, idade e localização geográfica (Link: https://github.com/americanas-tech/b2w-reviews01). \n",
    "```\n",
    "\n",
    "\n"
   ]
  },
  {
   "cell_type": "code",
   "execution_count": 50,
   "id": "0aa4be64",
   "metadata": {},
   "outputs": [],
   "source": [
    "# Importar as Bibliotecas \n",
    "\n",
    "import pandas as pd\n",
    "import spacy\n",
    "# import nltk\n",
    "import string\n",
    "import numpy as np\n",
    "import seaborn as sns\n",
    "from wordcloud import WordCloud\n",
    "import matplotlib.pyplot as plt\n",
    "from spacy.lang.pt.stop_words import STOP_WORDS\n",
    "from spacy.lang.pt import Portuguese\n",
    "\n",
    "# pip install -U scikit-learn scipy matplotlib\n",
    "from sklearn.feature_extraction.text import CountVectorizer, TfidfTransformer, TfidfVectorizer\n",
    "from sklearn.base import TransformerMixin\n",
    "from sklearn.pipeline import Pipeline\n",
    "from sklearn.model_selection import KFold\n",
    "from sklearn.model_selection import train_test_split, cross_val_score\n",
    "from sklearn.model_selection import GridSearchCV\n",
    "\n",
    "from sklearn.neural_network import MLPClassifier\n",
    "from sklearn.metrics import precision_recall_fscore_support"
   ]
  },
  {
   "cell_type": "code",
   "execution_count": 20,
   "id": "c6df3688",
   "metadata": {},
   "outputs": [
    {
     "name": "stdout",
     "output_type": "stream",
     "text": [
      "<class 'pandas.core.frame.DataFrame'>\n",
      "RangeIndex: 132373 entries, 0 to 132372\n",
      "Data columns (total 14 columns):\n",
      " #   Column                 Non-Null Count   Dtype  \n",
      "---  ------                 --------------   -----  \n",
      " 0   submission_date        132373 non-null  object \n",
      " 1   reviewer_id            132373 non-null  object \n",
      " 2   product_id             132373 non-null  object \n",
      " 3   product_name           132289 non-null  object \n",
      " 4   product_brand          40982 non-null   object \n",
      " 5   site_category_lv1      132367 non-null  object \n",
      " 6   site_category_lv2      128360 non-null  object \n",
      " 7   review_title           132071 non-null  object \n",
      " 8   overall_rating         132373 non-null  int64  \n",
      " 9   recommend_to_a_friend  132355 non-null  object \n",
      " 10  review_text            129098 non-null  object \n",
      " 11  reviewer_birth_year    126389 non-null  float64\n",
      " 12  reviewer_gender        128237 non-null  object \n",
      " 13  reviewer_state         128382 non-null  object \n",
      "dtypes: float64(1), int64(1), object(12)\n",
      "memory usage: 14.1+ MB\n"
     ]
    }
   ],
   "source": [
    "# DATASET: https://raw.githubusercontent.com/americanas-tech/b2w-reviews01/main/B2W-Reviews01.csv\n",
    "\n",
    "df = pd.read_csv('https://raw.githubusercontent.com/americanas-tech/b2w-reviews01/main/B2W-Reviews01.csv', dtype={'product_id': str, 'review_text': str})\n",
    "\n",
    "# Imprimir parte do DataSet para entendimento\n",
    "#print(\"Quantidade de Linhas: \", len(df.index))\n",
    "#df.head(5)\n",
    "# print (df.shape)\n",
    "\n",
    "df.info()\n"
   ]
  },
  {
   "cell_type": "markdown",
   "id": "09f127f6",
   "metadata": {},
   "source": [
    "## Nosso principal interesse é a coluna review_text e recommend_to_a_friend. Vamos remover todas as linhas que não possuem review e recommend_to_a_friend."
   ]
  },
  {
   "cell_type": "code",
   "execution_count": 21,
   "id": "313d5d7a",
   "metadata": {},
   "outputs": [
    {
     "name": "stdout",
     "output_type": "stream",
     "text": [
      "3275 18\n"
     ]
    }
   ],
   "source": [
    "print(df['review_text'].isnull().sum(),df['recommend_to_a_friend'].isnull().sum())"
   ]
  },
  {
   "cell_type": "code",
   "execution_count": 22,
   "id": "d03f546e",
   "metadata": {},
   "outputs": [],
   "source": [
    "# Remover linhas que tenham texto nulo\n",
    "df.dropna(subset=['review_text'], inplace=True)\n",
    "df.dropna(subset=['recommend_to_a_friend'], inplace=True)"
   ]
  },
  {
   "cell_type": "code",
   "execution_count": 23,
   "id": "7c0cc338",
   "metadata": {},
   "outputs": [
    {
     "name": "stdout",
     "output_type": "stream",
     "text": [
      "0 0\n"
     ]
    }
   ],
   "source": [
    "print(df['review_text'].isnull().sum(),df['recommend_to_a_friend'].isnull().sum())"
   ]
  },
  {
   "cell_type": "markdown",
   "id": "05268d3c",
   "metadata": {},
   "source": [
    "### Agora vamos remover as colunas desnecessárias"
   ]
  },
  {
   "cell_type": "code",
   "execution_count": 24,
   "id": "a5ad8cb7",
   "metadata": {},
   "outputs": [
    {
     "name": "stdout",
     "output_type": "stream",
     "text": [
      "<class 'pandas.core.frame.DataFrame'>\n",
      "Int64Index: 129080 entries, 0 to 132372\n",
      "Data columns (total 2 columns):\n",
      " #   Column  Non-Null Count   Dtype \n",
      "---  ------  --------------   ----- \n",
      " 0   text    129080 non-null  object\n",
      " 1   label   129080 non-null  object\n",
      "dtypes: object(2)\n",
      "memory usage: 3.0+ MB\n"
     ]
    }
   ],
   "source": [
    "# focar no texto e ignorar as demais colunas\n",
    "comp_df = df[['review_text','recommend_to_a_friend']]\n",
    "comp_df.columns =['text','label']\n",
    "comp_df.info()"
   ]
  },
  {
   "cell_type": "code",
   "execution_count": 25,
   "id": "8a6f8fd7",
   "metadata": {},
   "outputs": [
    {
     "name": "stdout",
     "output_type": "stream",
     "text": [
      "Yes    95066\n",
      "No     34014\n",
      "Name: label, dtype: int64\n"
     ]
    },
    {
     "data": {
      "image/png": "[encoded data removed]",
      "text/plain": [
       "<Figure size 640x480 with 1 Axes>"
      ]
     },
     "metadata": {},
     "output_type": "display_data"
    }
   ],
   "source": [
    "comp_df['label'].value_counts().plot.bar()\n",
    "print(comp_df['label'].value_counts())"
   ]
  },
  {
   "cell_type": "code",
   "execution_count": 26,
   "id": "e09f5b5d",
   "metadata": {},
   "outputs": [
    {
     "name": "stderr",
     "output_type": "stream",
     "text": [
      "/tmp/ipykernel_6594/1256219312.py:3: SettingWithCopyWarning: \n",
      "A value is trying to be set on a copy of a slice from a DataFrame.\n",
      "Try using .loc[row_indexer,col_indexer] = value instead\n",
      "\n",
      "See the caveats in the documentation: https://pandas.pydata.org/pandas-docs/stable/user_guide/indexing.html#returning-a-view-versus-a-copy\n",
      "  comp_df['label'] = comp_df.label.replace('Yes', 1)\n",
      "/tmp/ipykernel_6594/1256219312.py:4: SettingWithCopyWarning: \n",
      "A value is trying to be set on a copy of a slice from a DataFrame.\n",
      "Try using .loc[row_indexer,col_indexer] = value instead\n",
      "\n",
      "See the caveats in the documentation: https://pandas.pydata.org/pandas-docs/stable/user_guide/indexing.html#returning-a-view-versus-a-copy\n",
      "  comp_df['label'] = comp_df.label.replace('No',2)\n"
     ]
    }
   ],
   "source": [
    "# Transformar o rótulo para númerico\n",
    "\n",
    "comp_df['label'] = comp_df.label.replace('Yes', 1)\n",
    "comp_df['label'] = comp_df.label.replace('No',2)"
   ]
  },
  {
   "cell_type": "code",
   "execution_count": 27,
   "id": "bd45c8a3",
   "metadata": {},
   "outputs": [
    {
     "data": {
      "text/html": [
       "<div>\n",
       "<style scoped>\n",
       "    .dataframe tbody tr th:only-of-type {\n",
       "        vertical-align: middle;\n",
       "    }\n",
       "\n",
       "    .dataframe tbody tr th {\n",
       "        vertical-align: top;\n",
       "    }\n",
       "\n",
       "    .dataframe thead th {\n",
       "        text-align: right;\n",
       "    }\n",
       "</style>\n",
       "<table border=\"1\" class=\"dataframe\">\n",
       "  <thead>\n",
       "    <tr style=\"text-align: right;\">\n",
       "      <th></th>\n",
       "      <th>text</th>\n",
       "      <th>label</th>\n",
       "    </tr>\n",
       "  </thead>\n",
       "  <tbody>\n",
       "    <tr>\n",
       "      <th>0</th>\n",
       "      <td>Estou contente com a compra entrega rápida o ú...</td>\n",
       "      <td>1</td>\n",
       "    </tr>\n",
       "    <tr>\n",
       "      <th>1</th>\n",
       "      <td>Por apenas R$1994.20,eu consegui comprar esse ...</td>\n",
       "      <td>1</td>\n",
       "    </tr>\n",
       "    <tr>\n",
       "      <th>2</th>\n",
       "      <td>SUPERA EM AGILIDADE E PRATICIDADE OUTRAS PANEL...</td>\n",
       "      <td>1</td>\n",
       "    </tr>\n",
       "    <tr>\n",
       "      <th>3</th>\n",
       "      <td>MEU FILHO AMOU! PARECE DE VERDADE COM TANTOS D...</td>\n",
       "      <td>1</td>\n",
       "    </tr>\n",
       "    <tr>\n",
       "      <th>4</th>\n",
       "      <td>A entrega foi no prazo, as americanas estão de...</td>\n",
       "      <td>1</td>\n",
       "    </tr>\n",
       "  </tbody>\n",
       "</table>\n",
       "</div>"
      ],
      "text/plain": [
       "                                                text  label\n",
       "0  Estou contente com a compra entrega rápida o ú...      1\n",
       "1  Por apenas R$1994.20,eu consegui comprar esse ...      1\n",
       "2  SUPERA EM AGILIDADE E PRATICIDADE OUTRAS PANEL...      1\n",
       "3  MEU FILHO AMOU! PARECE DE VERDADE COM TANTOS D...      1\n",
       "4  A entrega foi no prazo, as americanas estão de...      1"
      ]
     },
     "execution_count": 27,
     "metadata": {},
     "output_type": "execute_result"
    }
   ],
   "source": [
    "comp_df.head()"
   ]
  },
  {
   "cell_type": "markdown",
   "id": "98970b90",
   "metadata": {},
   "source": [
    "### A baixo é feito a limpeza da base, removendo caracteres especiais com expressões regulares. Experimentar diferentes estratégias de normalização (pré-processamento) (p.ex., remoção de stop-words, lematização, etc).  impeza e normalização "
   ]
  },
  {
   "cell_type": "code",
   "execution_count": 28,
   "id": "0ea9add3",
   "metadata": {},
   "outputs": [
    {
     "name": "stderr",
     "output_type": "stream",
     "text": [
      "/tmp/ipykernel_6594/3603383595.py:2: FutureWarning: The default value of regex will change from True to False in a future version.\n",
      "  comp_df.text = comp_df.text.str.replace(r'(@\\w*)',\"USER\")\n",
      "/tmp/ipykernel_6594/3603383595.py:2: SettingWithCopyWarning: \n",
      "A value is trying to be set on a copy of a slice from a DataFrame.\n",
      "Try using .loc[row_indexer,col_indexer] = value instead\n",
      "\n",
      "See the caveats in the documentation: https://pandas.pydata.org/pandas-docs/stable/user_guide/indexing.html#returning-a-view-versus-a-copy\n",
      "  comp_df.text = comp_df.text.str.replace(r'(@\\w*)',\"USER\")\n",
      "/tmp/ipykernel_6594/3603383595.py:5: FutureWarning: The default value of regex will change from True to False in a future version.\n",
      "  comp_df.text = comp_df.text.str.replace(r\"http\\S+\", \"HTTP\")\n",
      "/tmp/ipykernel_6594/3603383595.py:5: SettingWithCopyWarning: \n",
      "A value is trying to be set on a copy of a slice from a DataFrame.\n",
      "Try using .loc[row_indexer,col_indexer] = value instead\n",
      "\n",
      "See the caveats in the documentation: https://pandas.pydata.org/pandas-docs/stable/user_guide/indexing.html#returning-a-view-versus-a-copy\n",
      "  comp_df.text = comp_df.text.str.replace(r\"http\\S+\", \"HTTP\")\n",
      "/tmp/ipykernel_6594/3603383595.py:8: FutureWarning: The default value of regex will change from True to False in a future version.\n",
      "  comp_df.text = comp_df.text.str.replace(r'#+',\"\")\n",
      "/tmp/ipykernel_6594/3603383595.py:8: SettingWithCopyWarning: \n",
      "A value is trying to be set on a copy of a slice from a DataFrame.\n",
      "Try using .loc[row_indexer,col_indexer] = value instead\n",
      "\n",
      "See the caveats in the documentation: https://pandas.pydata.org/pandas-docs/stable/user_guide/indexing.html#returning-a-view-versus-a-copy\n",
      "  comp_df.text = comp_df.text.str.replace(r'#+',\"\")\n",
      "/tmp/ipykernel_6594/3603383595.py:15: FutureWarning: The default value of regex will change from True to False in a future version.\n",
      "  comp_df.text = comp_df.text.str.replace(r'( +)',\" \")\n",
      "/tmp/ipykernel_6594/3603383595.py:15: SettingWithCopyWarning: \n",
      "A value is trying to be set on a copy of a slice from a DataFrame.\n",
      "Try using .loc[row_indexer,col_indexer] = value instead\n",
      "\n",
      "See the caveats in the documentation: https://pandas.pydata.org/pandas-docs/stable/user_guide/indexing.html#returning-a-view-versus-a-copy\n",
      "  comp_df.text = comp_df.text.str.replace(r'( +)',\" \")\n",
      "/tmp/ipykernel_6594/3603383595.py:16: SettingWithCopyWarning: \n",
      "A value is trying to be set on a copy of a slice from a DataFrame.\n",
      "Try using .loc[row_indexer,col_indexer] = value instead\n",
      "\n",
      "See the caveats in the documentation: https://pandas.pydata.org/pandas-docs/stable/user_guide/indexing.html#returning-a-view-versus-a-copy\n",
      "  comp_df.text = comp_df.text.str.strip()\n",
      "/tmp/ipykernel_6594/3603383595.py:19: FutureWarning: The default value of regex will change from True to False in a future version.\n",
      "  comp_df.text = comp_df.text.str.replace('\\d+', '')\n",
      "/tmp/ipykernel_6594/3603383595.py:19: SettingWithCopyWarning: \n",
      "A value is trying to be set on a copy of a slice from a DataFrame.\n",
      "Try using .loc[row_indexer,col_indexer] = value instead\n",
      "\n",
      "See the caveats in the documentation: https://pandas.pydata.org/pandas-docs/stable/user_guide/indexing.html#returning-a-view-versus-a-copy\n",
      "  comp_df.text = comp_df.text.str.replace('\\d+', '')\n",
      "/tmp/ipykernel_6594/3603383595.py:22: SettingWithCopyWarning: \n",
      "A value is trying to be set on a copy of a slice from a DataFrame.\n",
      "Try using .loc[row_indexer,col_indexer] = value instead\n",
      "\n",
      "See the caveats in the documentation: https://pandas.pydata.org/pandas-docs/stable/user_guide/indexing.html#returning-a-view-versus-a-copy\n",
      "  comp_df.text = comp_df.text.str.lower()\n"
     ]
    }
   ],
   "source": [
    "#Remove @ tags\n",
    "comp_df.text = comp_df.text.str.replace(r'(@\\w*)',\"USER\")\n",
    "\n",
    "#Remove URL\n",
    "comp_df.text = comp_df.text.str.replace(r\"http\\S+\", \"HTTP\")\n",
    "\n",
    "#Remove # tag\n",
    "comp_df.text = comp_df.text.str.replace(r'#+',\"\")\n",
    "\n",
    "\n",
    "#Remove all non-character\n",
    "#comp_df.text = comp_df.text.str.replace(r\"[^a-zA-Z ]\",\"\")\n",
    "\n",
    "# Remove extra space\n",
    "comp_df.text = comp_df.text.str.replace(r'( +)',\" \")\n",
    "comp_df.text = comp_df.text.str.strip()\n",
    "\n",
    "# Remove números\n",
    "comp_df.text = comp_df.text.str.replace('\\d+', '')\n",
    "\n",
    "# Change to lowercase\n",
    "comp_df.text = comp_df.text.str.lower()"
   ]
  },
  {
   "cell_type": "code",
   "execution_count": 29,
   "id": "523efb98",
   "metadata": {},
   "outputs": [
    {
     "data": {
      "text/html": [
       "<div>\n",
       "<style scoped>\n",
       "    .dataframe tbody tr th:only-of-type {\n",
       "        vertical-align: middle;\n",
       "    }\n",
       "\n",
       "    .dataframe tbody tr th {\n",
       "        vertical-align: top;\n",
       "    }\n",
       "\n",
       "    .dataframe thead th {\n",
       "        text-align: right;\n",
       "    }\n",
       "</style>\n",
       "<table border=\"1\" class=\"dataframe\">\n",
       "  <thead>\n",
       "    <tr style=\"text-align: right;\">\n",
       "      <th></th>\n",
       "      <th>text</th>\n",
       "      <th>label</th>\n",
       "    </tr>\n",
       "  </thead>\n",
       "  <tbody>\n",
       "    <tr>\n",
       "      <th>0</th>\n",
       "      <td>estou contente com a compra entrega rápida o ú...</td>\n",
       "      <td>1</td>\n",
       "    </tr>\n",
       "    <tr>\n",
       "      <th>1</th>\n",
       "      <td>por apenas r$.,eu consegui comprar esse lindo ...</td>\n",
       "      <td>1</td>\n",
       "    </tr>\n",
       "    <tr>\n",
       "      <th>2</th>\n",
       "      <td>supera em agilidade e praticidade outras panel...</td>\n",
       "      <td>1</td>\n",
       "    </tr>\n",
       "    <tr>\n",
       "      <th>3</th>\n",
       "      <td>meu filho amou! parece de verdade com tantos d...</td>\n",
       "      <td>1</td>\n",
       "    </tr>\n",
       "    <tr>\n",
       "      <th>4</th>\n",
       "      <td>a entrega foi no prazo, as americanas estão de...</td>\n",
       "      <td>1</td>\n",
       "    </tr>\n",
       "    <tr>\n",
       "      <th>5</th>\n",
       "      <td>excelente produto, por fora em material acríli...</td>\n",
       "      <td>1</td>\n",
       "    </tr>\n",
       "    <tr>\n",
       "      <th>6</th>\n",
       "      <td>produto mto bom, com essa garrafinha vc pode a...</td>\n",
       "      <td>1</td>\n",
       "    </tr>\n",
       "    <tr>\n",
       "      <th>7</th>\n",
       "      <td>produto excelente qualidade boa câmera desenvo...</td>\n",
       "      <td>1</td>\n",
       "    </tr>\n",
       "    <tr>\n",
       "      <th>8</th>\n",
       "      <td>o barulho e minimo e o vento é bem forte na ve...</td>\n",
       "      <td>1</td>\n",
       "    </tr>\n",
       "    <tr>\n",
       "      <th>9</th>\n",
       "      <td>meu produto nao foi entregue e a americanas es...</td>\n",
       "      <td>2</td>\n",
       "    </tr>\n",
       "    <tr>\n",
       "      <th>10</th>\n",
       "      <td>comprei um pra cara membro da família nesse na...</td>\n",
       "      <td>1</td>\n",
       "    </tr>\n",
       "    <tr>\n",
       "      <th>11</th>\n",
       "      <td>produto maravilhoso! não é barulhento, fácil m...</td>\n",
       "      <td>1</td>\n",
       "    </tr>\n",
       "    <tr>\n",
       "      <th>12</th>\n",
       "      <td>jogo de panelas excelente material, entrega a ...</td>\n",
       "      <td>2</td>\n",
       "    </tr>\n",
       "    <tr>\n",
       "      <th>13</th>\n",
       "      <td>esse celular não vale nada a bateria não vale ...</td>\n",
       "      <td>2</td>\n",
       "    </tr>\n",
       "    <tr>\n",
       "      <th>14</th>\n",
       "      <td>produto de acordo com o que eu esperava. somen...</td>\n",
       "      <td>1</td>\n",
       "    </tr>\n",
       "    <tr>\n",
       "      <th>15</th>\n",
       "      <td>a mochila nao esta fechando direito por isso n...</td>\n",
       "      <td>2</td>\n",
       "    </tr>\n",
       "    <tr>\n",
       "      <th>16</th>\n",
       "      <td>produto condizente com o anúncio, com material...</td>\n",
       "      <td>1</td>\n",
       "    </tr>\n",
       "    <tr>\n",
       "      <th>17</th>\n",
       "      <td>nao tenho nada a reclamar, bom atendimento e e...</td>\n",
       "      <td>1</td>\n",
       "    </tr>\n",
       "    <tr>\n",
       "      <th>18</th>\n",
       "      <td>até agora os produtos que eu comprei foram ent...</td>\n",
       "      <td>1</td>\n",
       "    </tr>\n",
       "    <tr>\n",
       "      <th>19</th>\n",
       "      <td>a capa não decepcionou por enquanto, mas a bol...</td>\n",
       "      <td>1</td>\n",
       "    </tr>\n",
       "  </tbody>\n",
       "</table>\n",
       "</div>"
      ],
      "text/plain": [
       "                                                 text  label\n",
       "0   estou contente com a compra entrega rápida o ú...      1\n",
       "1   por apenas r$.,eu consegui comprar esse lindo ...      1\n",
       "2   supera em agilidade e praticidade outras panel...      1\n",
       "3   meu filho amou! parece de verdade com tantos d...      1\n",
       "4   a entrega foi no prazo, as americanas estão de...      1\n",
       "5   excelente produto, por fora em material acríli...      1\n",
       "6   produto mto bom, com essa garrafinha vc pode a...      1\n",
       "7   produto excelente qualidade boa câmera desenvo...      1\n",
       "8   o barulho e minimo e o vento é bem forte na ve...      1\n",
       "9   meu produto nao foi entregue e a americanas es...      2\n",
       "10  comprei um pra cara membro da família nesse na...      1\n",
       "11  produto maravilhoso! não é barulhento, fácil m...      1\n",
       "12  jogo de panelas excelente material, entrega a ...      2\n",
       "13  esse celular não vale nada a bateria não vale ...      2\n",
       "14  produto de acordo com o que eu esperava. somen...      1\n",
       "15  a mochila nao esta fechando direito por isso n...      2\n",
       "16  produto condizente com o anúncio, com material...      1\n",
       "17  nao tenho nada a reclamar, bom atendimento e e...      1\n",
       "18  até agora os produtos que eu comprei foram ent...      1\n",
       "19  a capa não decepcionou por enquanto, mas a bol...      1"
      ]
     },
     "execution_count": 29,
     "metadata": {},
     "output_type": "execute_result"
    }
   ],
   "source": [
    "comp_df.head(20)"
   ]
  },
  {
   "cell_type": "code",
   "execution_count": null,
   "id": "f2bc3212",
   "metadata": {},
   "outputs": [],
   "source": [
    "!python -m spacy download pt\n",
    "\n",
    "!python -m spacy download pt_core_news_lg"
   ]
  },
  {
   "cell_type": "code",
   "execution_count": 30,
   "id": "80bbc9ba",
   "metadata": {},
   "outputs": [],
   "source": [
    "# Create our list of punctuation marks\n",
    "punctuations = string.punctuation\n",
    "\n",
    "# Create our list of stopwords\n",
    "nlp = spacy.load(\"pt_core_news_sm\") \n",
    "stop_words = spacy.lang.pt.stop_words.STOP_WORDS\n",
    "\n",
    "#parser = English()\n",
    "\n",
    "\n",
    "# Creating our tokenizer function\n",
    "def spacy_tokenizer(sentence):\n",
    "    # Creating our token object, which is used to create documents with linguistic annotations.\n",
    "    mytokens = nlp(sentence)\n",
    "    #mytokens = nlp(sentence)\n",
    "    #print(mytokens)\n",
    "    #for word in mytokens:\n",
    "    #  print(word.lemma_)\n",
    "\n",
    "    # Lemmatizing each token and converting each token into lowercase\n",
    "    #mytokens = [ word.lemma_.lower().strip() if word.lemma_ != \"-PRON-\" else word.lower_ for word in mytokens ]\n",
    "    mytokens = [ word.lemma_.lower().strip() for word in mytokens ]\n",
    "    #print(mytokens)\n",
    "    #mytokens = [ word.lemma_.lower().strip() for word in mytokens ]\n",
    "\n",
    "    # Removing stop words\n",
    "    mytokens = [ word for word in mytokens if word not in stop_words and word not in punctuations ]\n",
    "    #print(mytokens)\n",
    "\n",
    "    # return preprocessed list of tokens\n",
    "    return mytokens"
   ]
  },
  {
   "cell_type": "code",
   "execution_count": 31,
   "id": "4cbe2d8d",
   "metadata": {},
   "outputs": [
    {
     "name": "stderr",
     "output_type": "stream",
     "text": [
      "/tmp/ipykernel_6594/3629122824.py:2: SettingWithCopyWarning: \n",
      "A value is trying to be set on a copy of a slice from a DataFrame.\n",
      "Try using .loc[row_indexer,col_indexer] = value instead\n",
      "\n",
      "See the caveats in the documentation: https://pandas.pydata.org/pandas-docs/stable/user_guide/indexing.html#returning-a-view-versus-a-copy\n",
      "  teste['corpus'] = [spacy_tokenizer(text) for text in teste.text]\n"
     ]
    },
    {
     "data": {
      "text/html": [
       "<div>\n",
       "<style scoped>\n",
       "    .dataframe tbody tr th:only-of-type {\n",
       "        vertical-align: middle;\n",
       "    }\n",
       "\n",
       "    .dataframe tbody tr th {\n",
       "        vertical-align: top;\n",
       "    }\n",
       "\n",
       "    .dataframe thead th {\n",
       "        text-align: right;\n",
       "    }\n",
       "</style>\n",
       "<table border=\"1\" class=\"dataframe\">\n",
       "  <thead>\n",
       "    <tr style=\"text-align: right;\">\n",
       "      <th></th>\n",
       "      <th>text</th>\n",
       "      <th>label</th>\n",
       "      <th>corpus</th>\n",
       "    </tr>\n",
       "  </thead>\n",
       "  <tbody>\n",
       "    <tr>\n",
       "      <th>0</th>\n",
       "      <td>estou contente com a compra entrega rápida o ú...</td>\n",
       "      <td>1</td>\n",
       "      <td>[contente, compra, entregar, rápido, único, pr...</td>\n",
       "    </tr>\n",
       "    <tr>\n",
       "      <th>1</th>\n",
       "      <td>por apenas r$.,eu consegui comprar esse lindo ...</td>\n",
       "      <td>1</td>\n",
       "      <td>[r$, .,eu, conseguir, comprar, lindo, copo, ac...</td>\n",
       "    </tr>\n",
       "    <tr>\n",
       "      <th>2</th>\n",
       "      <td>supera em agilidade e praticidade outras panel...</td>\n",
       "      <td>1</td>\n",
       "      <td>[superar, agilidade, praticidade, outro, panel...</td>\n",
       "    </tr>\n",
       "    <tr>\n",
       "      <th>3</th>\n",
       "      <td>meu filho amou! parece de verdade com tantos d...</td>\n",
       "      <td>1</td>\n",
       "      <td>[filho, amar, parecer, verdade, detalhe]</td>\n",
       "    </tr>\n",
       "    <tr>\n",
       "      <th>4</th>\n",
       "      <td>a entrega foi no prazo, as americanas estão de...</td>\n",
       "      <td>1</td>\n",
       "      <td>[entrega, em o, prazo, americana, parabéns, sm...</td>\n",
       "    </tr>\n",
       "  </tbody>\n",
       "</table>\n",
       "</div>"
      ],
      "text/plain": [
       "                                                text  label  \\\n",
       "0  estou contente com a compra entrega rápida o ú...      1   \n",
       "1  por apenas r$.,eu consegui comprar esse lindo ...      1   \n",
       "2  supera em agilidade e praticidade outras panel...      1   \n",
       "3  meu filho amou! parece de verdade com tantos d...      1   \n",
       "4  a entrega foi no prazo, as americanas estão de...      1   \n",
       "\n",
       "                                              corpus  \n",
       "0  [contente, compra, entregar, rápido, único, pr...  \n",
       "1  [r$, .,eu, conseguir, comprar, lindo, copo, ac...  \n",
       "2  [superar, agilidade, praticidade, outro, panel...  \n",
       "3           [filho, amar, parecer, verdade, detalhe]  \n",
       "4  [entrega, em o, prazo, americana, parabéns, sm...  "
      ]
     },
     "execution_count": 31,
     "metadata": {},
     "output_type": "execute_result"
    }
   ],
   "source": [
    "teste = comp_df\n",
    "teste['corpus'] = [spacy_tokenizer(text) for text in teste.text]\n",
    "teste.head()"
   ]
  },
  {
   "cell_type": "code",
   "execution_count": 38,
   "id": "5f347452",
   "metadata": {},
   "outputs": [
    {
     "name": "stderr",
     "output_type": "stream",
     "text": [
      "/tmp/ipykernel_6594/3693335669.py:1: SettingWithCopyWarning: \n",
      "A value is trying to be set on a copy of a slice from a DataFrame.\n",
      "Try using .loc[row_indexer,col_indexer] = value instead\n",
      "\n",
      "See the caveats in the documentation: https://pandas.pydata.org/pandas-docs/stable/user_guide/indexing.html#returning-a-view-versus-a-copy\n",
      "  teste.corpus = teste.apply(lambda x: \" \".join(x.corpus),axis=1)\n"
     ]
    },
    {
     "data": {
      "text/html": [
       "<div>\n",
       "<style scoped>\n",
       "    .dataframe tbody tr th:only-of-type {\n",
       "        vertical-align: middle;\n",
       "    }\n",
       "\n",
       "    .dataframe tbody tr th {\n",
       "        vertical-align: top;\n",
       "    }\n",
       "\n",
       "    .dataframe thead th {\n",
       "        text-align: right;\n",
       "    }\n",
       "</style>\n",
       "<table border=\"1\" class=\"dataframe\">\n",
       "  <thead>\n",
       "    <tr style=\"text-align: right;\">\n",
       "      <th></th>\n",
       "      <th>text</th>\n",
       "      <th>label</th>\n",
       "      <th>corpus</th>\n",
       "    </tr>\n",
       "  </thead>\n",
       "  <tbody>\n",
       "    <tr>\n",
       "      <th>0</th>\n",
       "      <td>estou contente com a compra entrega rápida o ú...</td>\n",
       "      <td>1</td>\n",
       "      <td>contente compra entregar rápido único problema...</td>\n",
       "    </tr>\n",
       "    <tr>\n",
       "      <th>1</th>\n",
       "      <td>por apenas r$.,eu consegui comprar esse lindo ...</td>\n",
       "      <td>1</td>\n",
       "      <td>r$ .,eu conseguir comprar lindo copo acrílico</td>\n",
       "    </tr>\n",
       "    <tr>\n",
       "      <th>2</th>\n",
       "      <td>supera em agilidade e praticidade outras panel...</td>\n",
       "      <td>1</td>\n",
       "      <td>superar agilidade praticidade outro panela elé...</td>\n",
       "    </tr>\n",
       "    <tr>\n",
       "      <th>3</th>\n",
       "      <td>meu filho amou! parece de verdade com tantos d...</td>\n",
       "      <td>1</td>\n",
       "      <td>filho amar parecer verdade detalhe</td>\n",
       "    </tr>\n",
       "    <tr>\n",
       "      <th>4</th>\n",
       "      <td>a entrega foi no prazo, as americanas estão de...</td>\n",
       "      <td>1</td>\n",
       "      <td>entrega em o prazo americana parabéns smart tv...</td>\n",
       "    </tr>\n",
       "  </tbody>\n",
       "</table>\n",
       "</div>"
      ],
      "text/plain": [
       "                                                text  label  \\\n",
       "0  estou contente com a compra entrega rápida o ú...      1   \n",
       "1  por apenas r$.,eu consegui comprar esse lindo ...      1   \n",
       "2  supera em agilidade e praticidade outras panel...      1   \n",
       "3  meu filho amou! parece de verdade com tantos d...      1   \n",
       "4  a entrega foi no prazo, as americanas estão de...      1   \n",
       "\n",
       "                                              corpus  \n",
       "0  contente compra entregar rápido único problema...  \n",
       "1      r$ .,eu conseguir comprar lindo copo acrílico  \n",
       "2  superar agilidade praticidade outro panela elé...  \n",
       "3                 filho amar parecer verdade detalhe  \n",
       "4  entrega em o prazo americana parabéns smart tv...  "
      ]
     },
     "execution_count": 38,
     "metadata": {},
     "output_type": "execute_result"
    }
   ],
   "source": [
    "teste.corpus = teste.apply(lambda x: \" \".join(x.corpus),axis=1)\n",
    "teste.head()"
   ]
  },
  {
   "cell_type": "markdown",
   "id": "61e90523",
   "metadata": {},
   "source": [
    "\n",
    "#  A metodologia experimental, \n",
    "\n",
    "Após a preparação dos dados vamos realizar os experimentos com os classificadores de rede neural do scikit learn\n",
    "\n",
    "A avaliação dos algoritmos foi feita em um computador com processador Intel\n",
    "Corei7-9750H de 2.60GHz, 15,5 GiB de memória RAM, 64 bits, placa de vídeo\n",
    "GeForce GTX 1660 Ti Mobile e Internet com velocidade de 300Mbps. O\n",
    "sistema operacional utilizado para os testes foi a distribuição GNU/Linux\n",
    "Ubuntu 22.04.4. LTS."
   ]
  },
  {
   "cell_type": "markdown",
   "id": "a5918c82",
   "metadata": {},
   "source": [
    "# Experimentação utilizando técnica de bag of words"
   ]
  },
  {
   "cell_type": "code",
   "execution_count": 49,
   "id": "e548b729",
   "metadata": {},
   "outputs": [
    {
     "name": "stdout",
     "output_type": "stream",
     "text": [
      "(129080, 42284)\n"
     ]
    }
   ],
   "source": [
    "X = teste.corpus.values\n",
    "Y = teste.label.values\n",
    "\n",
    "freq_vector = CountVectorizer(min_df=5, ngram_range=(1,2),stop_words='english').fit(teste.corpus)\n",
    "\n",
    "X = freq_vector.transform(X)\n",
    "\n",
    "\n",
    "print(X.shape)"
   ]
  },
  {
   "cell_type": "markdown",
   "id": "8f93b42e",
   "metadata": {},
   "source": [
    "## Treino e Teste Split\n",
    "\n",
    "## Utilizamos o classificador MLPClassifier (Multi-layer Perceptron classifier.)\n",
    "\n",
    "\n",
    "https://scikit-learn.org/stable/modules/generated/sklearn.neural_network.MLPClassifier.html"
   ]
  },
  {
   "cell_type": "code",
   "execution_count": 51,
   "id": "6558b841",
   "metadata": {},
   "outputs": [
    {
     "name": "stdout",
     "output_type": "stream",
     "text": [
      "Acurácia:  87.21981200289225\n",
      "(0.8367759209695471, 0.8363399303298211, 0.836557469818427, None)\n"
     ]
    },
    {
     "name": "stderr",
     "output_type": "stream",
     "text": [
      "/home/regis/.local/lib/python3.10/site-packages/sklearn/neural_network/_multilayer_perceptron.py:536: ConvergenceWarning: lbfgs failed to converge (status=1):\n",
      "STOP: TOTAL NO. of ITERATIONS REACHED LIMIT.\n",
      "\n",
      "Increase the number of iterations (max_iter) or scale the data as shown in:\n",
      "    https://scikit-learn.org/stable/modules/preprocessing.html\n",
      "  self.n_iter_ = _check_optimize_result(\"lbfgs\", opt_res, self.max_iter)\n"
     ]
    }
   ],
   "source": [
    "X_train, X_test, Y_train, Y_test = train_test_split(X, Y, test_size=0.3, random_state=8)\n",
    "\n",
    "clf = MLPClassifier(solver='lbfgs', alpha=1e-5, hidden_layer_sizes=(5, 2), random_state=1)\n",
    "clf.fit(X_train, Y_train)\n",
    "\n",
    "\n",
    "#y_pred_train=clf.predict(x_train)\n",
    "#precision_recall_fscore_support(y_train, y_pred_train, average='macro')\n",
    "\n",
    "Y_pred=clf.predict(X_test)\n",
    "result = clf.score(X_test, Y_test)\n",
    "print(\"Acurácia: \", result*100.0)\n",
    "print(precision_recall_fscore_support(Y_test, Y_pred, average='macro'))"
   ]
  },
  {
   "cell_type": "markdown",
   "id": "a9f6b2d5",
   "metadata": {},
   "source": [
    "## Validação Cruzada K-Fold"
   ]
  },
  {
   "cell_type": "code",
   "execution_count": 52,
   "id": "d0e8fdb1",
   "metadata": {},
   "outputs": [
    {
     "name": "stderr",
     "output_type": "stream",
     "text": [
      "/home/regis/.local/lib/python3.10/site-packages/sklearn/neural_network/_multilayer_perceptron.py:536: ConvergenceWarning: lbfgs failed to converge (status=1):\n",
      "STOP: TOTAL NO. of ITERATIONS REACHED LIMIT.\n",
      "\n",
      "Increase the number of iterations (max_iter) or scale the data as shown in:\n",
      "    https://scikit-learn.org/stable/modules/preprocessing.html\n",
      "  self.n_iter_ = _check_optimize_result(\"lbfgs\", opt_res, self.max_iter)\n",
      "/home/regis/.local/lib/python3.10/site-packages/sklearn/neural_network/_multilayer_perceptron.py:536: ConvergenceWarning: lbfgs failed to converge (status=1):\n",
      "STOP: TOTAL NO. of ITERATIONS REACHED LIMIT.\n",
      "\n",
      "Increase the number of iterations (max_iter) or scale the data as shown in:\n",
      "    https://scikit-learn.org/stable/modules/preprocessing.html\n",
      "  self.n_iter_ = _check_optimize_result(\"lbfgs\", opt_res, self.max_iter)\n",
      "/home/regis/.local/lib/python3.10/site-packages/sklearn/neural_network/_multilayer_perceptron.py:536: ConvergenceWarning: lbfgs failed to converge (status=1):\n",
      "STOP: TOTAL NO. of ITERATIONS REACHED LIMIT.\n",
      "\n",
      "Increase the number of iterations (max_iter) or scale the data as shown in:\n",
      "    https://scikit-learn.org/stable/modules/preprocessing.html\n",
      "  self.n_iter_ = _check_optimize_result(\"lbfgs\", opt_res, self.max_iter)\n",
      "/home/regis/.local/lib/python3.10/site-packages/sklearn/neural_network/_multilayer_perceptron.py:536: ConvergenceWarning: lbfgs failed to converge (status=1):\n",
      "STOP: TOTAL NO. of ITERATIONS REACHED LIMIT.\n",
      "\n",
      "Increase the number of iterations (max_iter) or scale the data as shown in:\n",
      "    https://scikit-learn.org/stable/modules/preprocessing.html\n",
      "  self.n_iter_ = _check_optimize_result(\"lbfgs\", opt_res, self.max_iter)\n",
      "/home/regis/.local/lib/python3.10/site-packages/sklearn/neural_network/_multilayer_perceptron.py:536: ConvergenceWarning: lbfgs failed to converge (status=1):\n",
      "STOP: TOTAL NO. of ITERATIONS REACHED LIMIT.\n",
      "\n",
      "Increase the number of iterations (max_iter) or scale the data as shown in:\n",
      "    https://scikit-learn.org/stable/modules/preprocessing.html\n",
      "  self.n_iter_ = _check_optimize_result(\"lbfgs\", opt_res, self.max_iter)\n",
      "/home/regis/.local/lib/python3.10/site-packages/sklearn/neural_network/_multilayer_perceptron.py:536: ConvergenceWarning: lbfgs failed to converge (status=1):\n",
      "STOP: TOTAL NO. of ITERATIONS REACHED LIMIT.\n",
      "\n",
      "Increase the number of iterations (max_iter) or scale the data as shown in:\n",
      "    https://scikit-learn.org/stable/modules/preprocessing.html\n",
      "  self.n_iter_ = _check_optimize_result(\"lbfgs\", opt_res, self.max_iter)\n",
      "/home/regis/.local/lib/python3.10/site-packages/sklearn/neural_network/_multilayer_perceptron.py:536: ConvergenceWarning: lbfgs failed to converge (status=1):\n",
      "STOP: TOTAL NO. of ITERATIONS REACHED LIMIT.\n",
      "\n",
      "Increase the number of iterations (max_iter) or scale the data as shown in:\n",
      "    https://scikit-learn.org/stable/modules/preprocessing.html\n",
      "  self.n_iter_ = _check_optimize_result(\"lbfgs\", opt_res, self.max_iter)\n",
      "/home/regis/.local/lib/python3.10/site-packages/sklearn/neural_network/_multilayer_perceptron.py:536: ConvergenceWarning: lbfgs failed to converge (status=1):\n",
      "STOP: TOTAL NO. of ITERATIONS REACHED LIMIT.\n",
      "\n",
      "Increase the number of iterations (max_iter) or scale the data as shown in:\n",
      "    https://scikit-learn.org/stable/modules/preprocessing.html\n",
      "  self.n_iter_ = _check_optimize_result(\"lbfgs\", opt_res, self.max_iter)\n",
      "/home/regis/.local/lib/python3.10/site-packages/sklearn/neural_network/_multilayer_perceptron.py:536: ConvergenceWarning: lbfgs failed to converge (status=1):\n",
      "STOP: TOTAL NO. of ITERATIONS REACHED LIMIT.\n",
      "\n",
      "Increase the number of iterations (max_iter) or scale the data as shown in:\n",
      "    https://scikit-learn.org/stable/modules/preprocessing.html\n",
      "  self.n_iter_ = _check_optimize_result(\"lbfgs\", opt_res, self.max_iter)\n"
     ]
    },
    {
     "name": "stdout",
     "output_type": "stream",
     "text": [
      "Acurácia:  87.00960644561512 0.8641982178433393\n"
     ]
    },
    {
     "name": "stderr",
     "output_type": "stream",
     "text": [
      "/home/regis/.local/lib/python3.10/site-packages/sklearn/neural_network/_multilayer_perceptron.py:536: ConvergenceWarning: lbfgs failed to converge (status=1):\n",
      "STOP: TOTAL NO. of ITERATIONS REACHED LIMIT.\n",
      "\n",
      "Increase the number of iterations (max_iter) or scale the data as shown in:\n",
      "    https://scikit-learn.org/stable/modules/preprocessing.html\n",
      "  self.n_iter_ = _check_optimize_result(\"lbfgs\", opt_res, self.max_iter)\n"
     ]
    }
   ],
   "source": [
    "kfold = KFold(n_splits=10, shuffle=False, random_state=None)\n",
    "\n",
    "clf = MLPClassifier(solver='lbfgs', alpha=1e-5, hidden_layer_sizes=(5, 2), random_state=1)\n",
    "\n",
    "results = cross_val_score(clf, X, Y, cv=kfold)\n",
    "\n",
    "print(\"Acurácia: \", results.mean()*100.0, results.std()*100.0)"
   ]
  },
  {
   "cell_type": "code",
   "execution_count": 53,
   "id": "2edf8925",
   "metadata": {},
   "outputs": [
    {
     "data": {
      "image/png": "[encoded data removed]",
      "text/plain": [
       "<Figure size 640x480 with 2 Axes>"
      ]
     },
     "metadata": {},
     "output_type": "display_data"
    }
   ],
   "source": [
    "from sklearn.metrics import confusion_matrix\n",
    "cm=confusion_matrix(Y_test, Y_pred)\n",
    "def plot_cm(conf_matrix):\n",
    "  sns.set(font_scale=1.4,color_codes=True,palette=\"deep\")\n",
    "  sns.heatmap(cm,annot=True,annot_kws={\"size\":16},fmt=\"d\",cmap=\"YlGnBu\")\n",
    "  plt.title(\"Confusion Matrix\")\n",
    "  plt.xlabel(\"Predicted Value\")\n",
    "  plt.ylabel(\"True Value\")\n",
    "plot_cm(cm)"
   ]
  },
  {
   "cell_type": "markdown",
   "id": "abcbaf17",
   "metadata": {},
   "source": [
    "# Experimentar com ao menos duas alterações de hiperparâmetros (tipo da ativação, alteração na arquitetura, otimizador, ajuste da taxa de aprendizado, ajustar ou não a taxa de aprendizado, etc)."
   ]
  },
  {
   "cell_type": "code",
   "execution_count": 54,
   "id": "e58e32c1",
   "metadata": {},
   "outputs": [
    {
     "name": "stderr",
     "output_type": "stream",
     "text": [
      "[Parallel(n_jobs=-1)]: Using backend LokyBackend with 12 concurrent workers.\n",
      "/home/regis/.local/lib/python3.10/site-packages/sklearn/neural_network/_multilayer_perceptron.py:536: ConvergenceWarning: lbfgs failed to converge (status=1):\n",
      "STOP: TOTAL NO. of ITERATIONS REACHED LIMIT.\n",
      "\n",
      "Increase the number of iterations (max_iter) or scale the data as shown in:\n",
      "    https://scikit-learn.org/stable/modules/preprocessing.html\n",
      "  self.n_iter_ = _check_optimize_result(\"lbfgs\", opt_res, self.max_iter)\n",
      "[Parallel(n_jobs=-1)]: Done  10 out of  10 | elapsed:    1.9s finished\n"
     ]
    },
    {
     "data": {
      "text/plain": [
       "0.8480000000000001"
      ]
     },
     "execution_count": 54,
     "metadata": {},
     "output_type": "execute_result"
    }
   ],
   "source": [
    "cross_val_score(MLPClassifier(solver='lbfgs', alpha=1e-5, hidden_layer_sizes=(5, 2), random_state=1), x_train, y_train, cv=10, verbose=1, n_jobs=-1).mean()"
   ]
  },
  {
   "cell_type": "code",
   "execution_count": 62,
   "id": "e8fc099b",
   "metadata": {},
   "outputs": [
    {
     "name": "stdout",
     "output_type": "stream",
     "text": [
      "Fitting 5 folds for each of 12 candidates, totalling 60 fits\n"
     ]
    },
    {
     "name": "stderr",
     "output_type": "stream",
     "text": [
      "/home/regis/.local/lib/python3.10/site-packages/sklearn/neural_network/_multilayer_perceptron.py:536: ConvergenceWarning: lbfgs failed to converge (status=1):\n",
      "STOP: TOTAL NO. of ITERATIONS REACHED LIMIT.\n",
      "\n",
      "Increase the number of iterations (max_iter) or scale the data as shown in:\n",
      "    https://scikit-learn.org/stable/modules/preprocessing.html\n",
      "  self.n_iter_ = _check_optimize_result(\"lbfgs\", opt_res, self.max_iter)\n",
      "/home/regis/.local/lib/python3.10/site-packages/sklearn/neural_network/_multilayer_perceptron.py:536: ConvergenceWarning: lbfgs failed to converge (status=1):\n",
      "STOP: TOTAL NO. of ITERATIONS REACHED LIMIT.\n",
      "\n",
      "Increase the number of iterations (max_iter) or scale the data as shown in:\n",
      "    https://scikit-learn.org/stable/modules/preprocessing.html\n",
      "  self.n_iter_ = _check_optimize_result(\"lbfgs\", opt_res, self.max_iter)\n",
      "/home/regis/.local/lib/python3.10/site-packages/sklearn/neural_network/_multilayer_perceptron.py:536: ConvergenceWarning: lbfgs failed to converge (status=1):\n",
      "STOP: TOTAL NO. of ITERATIONS REACHED LIMIT.\n",
      "\n",
      "Increase the number of iterations (max_iter) or scale the data as shown in:\n",
      "    https://scikit-learn.org/stable/modules/preprocessing.html\n",
      "  self.n_iter_ = _check_optimize_result(\"lbfgs\", opt_res, self.max_iter)\n",
      "/home/regis/.local/lib/python3.10/site-packages/sklearn/neural_network/_multilayer_perceptron.py:536: ConvergenceWarning: lbfgs failed to converge (status=1):\n",
      "STOP: TOTAL NO. of ITERATIONS REACHED LIMIT.\n",
      "\n",
      "Increase the number of iterations (max_iter) or scale the data as shown in:\n",
      "    https://scikit-learn.org/stable/modules/preprocessing.html\n",
      "  self.n_iter_ = _check_optimize_result(\"lbfgs\", opt_res, self.max_iter)\n",
      "/home/regis/.local/lib/python3.10/site-packages/sklearn/neural_network/_multilayer_perceptron.py:536: ConvergenceWarning: lbfgs failed to converge (status=1):\n",
      "STOP: TOTAL NO. of ITERATIONS REACHED LIMIT.\n",
      "\n",
      "Increase the number of iterations (max_iter) or scale the data as shown in:\n",
      "    https://scikit-learn.org/stable/modules/preprocessing.html\n",
      "  self.n_iter_ = _check_optimize_result(\"lbfgs\", opt_res, self.max_iter)\n",
      "/home/regis/.local/lib/python3.10/site-packages/sklearn/neural_network/_multilayer_perceptron.py:536: ConvergenceWarning: lbfgs failed to converge (status=1):\n",
      "STOP: TOTAL NO. of ITERATIONS REACHED LIMIT.\n",
      "\n",
      "Increase the number of iterations (max_iter) or scale the data as shown in:\n",
      "    https://scikit-learn.org/stable/modules/preprocessing.html\n",
      "  self.n_iter_ = _check_optimize_result(\"lbfgs\", opt_res, self.max_iter)\n",
      "/home/regis/.local/lib/python3.10/site-packages/sklearn/neural_network/_multilayer_perceptron.py:536: ConvergenceWarning: lbfgs failed to converge (status=1):\n",
      "STOP: TOTAL NO. of ITERATIONS REACHED LIMIT.\n",
      "\n",
      "Increase the number of iterations (max_iter) or scale the data as shown in:\n",
      "    https://scikit-learn.org/stable/modules/preprocessing.html\n",
      "  self.n_iter_ = _check_optimize_result(\"lbfgs\", opt_res, self.max_iter)\n",
      "/home/regis/.local/lib/python3.10/site-packages/sklearn/neural_network/_multilayer_perceptron.py:536: ConvergenceWarning: lbfgs failed to converge (status=1):\n",
      "STOP: TOTAL NO. of ITERATIONS REACHED LIMIT.\n",
      "\n",
      "Increase the number of iterations (max_iter) or scale the data as shown in:\n",
      "    https://scikit-learn.org/stable/modules/preprocessing.html\n",
      "  self.n_iter_ = _check_optimize_result(\"lbfgs\", opt_res, self.max_iter)\n",
      "/home/regis/.local/lib/python3.10/site-packages/sklearn/neural_network/_multilayer_perceptron.py:536: ConvergenceWarning: lbfgs failed to converge (status=1):\n",
      "STOP: TOTAL NO. of ITERATIONS REACHED LIMIT.\n",
      "\n",
      "Increase the number of iterations (max_iter) or scale the data as shown in:\n",
      "    https://scikit-learn.org/stable/modules/preprocessing.html\n",
      "  self.n_iter_ = _check_optimize_result(\"lbfgs\", opt_res, self.max_iter)\n",
      "/home/regis/.local/lib/python3.10/site-packages/sklearn/neural_network/_multilayer_perceptron.py:536: ConvergenceWarning: lbfgs failed to converge (status=1):\n",
      "STOP: TOTAL NO. of ITERATIONS REACHED LIMIT.\n",
      "\n",
      "Increase the number of iterations (max_iter) or scale the data as shown in:\n",
      "    https://scikit-learn.org/stable/modules/preprocessing.html\n",
      "  self.n_iter_ = _check_optimize_result(\"lbfgs\", opt_res, self.max_iter)\n",
      "/home/regis/.local/lib/python3.10/site-packages/sklearn/neural_network/_multilayer_perceptron.py:536: ConvergenceWarning: lbfgs failed to converge (status=1):\n",
      "STOP: TOTAL NO. of ITERATIONS REACHED LIMIT.\n",
      "\n",
      "Increase the number of iterations (max_iter) or scale the data as shown in:\n",
      "    https://scikit-learn.org/stable/modules/preprocessing.html\n",
      "  self.n_iter_ = _check_optimize_result(\"lbfgs\", opt_res, self.max_iter)\n",
      "/home/regis/.local/lib/python3.10/site-packages/sklearn/neural_network/_multilayer_perceptron.py:536: ConvergenceWarning: lbfgs failed to converge (status=1):\n",
      "STOP: TOTAL NO. of ITERATIONS REACHED LIMIT.\n",
      "\n",
      "Increase the number of iterations (max_iter) or scale the data as shown in:\n",
      "    https://scikit-learn.org/stable/modules/preprocessing.html\n",
      "  self.n_iter_ = _check_optimize_result(\"lbfgs\", opt_res, self.max_iter)\n",
      "/home/regis/.local/lib/python3.10/site-packages/sklearn/neural_network/_multilayer_perceptron.py:536: ConvergenceWarning: lbfgs failed to converge (status=1):\n",
      "STOP: TOTAL NO. of ITERATIONS REACHED LIMIT.\n",
      "\n",
      "Increase the number of iterations (max_iter) or scale the data as shown in:\n",
      "    https://scikit-learn.org/stable/modules/preprocessing.html\n",
      "  self.n_iter_ = _check_optimize_result(\"lbfgs\", opt_res, self.max_iter)\n",
      "/home/regis/.local/lib/python3.10/site-packages/sklearn/neural_network/_multilayer_perceptron.py:536: ConvergenceWarning: lbfgs failed to converge (status=1):\n",
      "STOP: TOTAL NO. of ITERATIONS REACHED LIMIT.\n",
      "\n",
      "Increase the number of iterations (max_iter) or scale the data as shown in:\n",
      "    https://scikit-learn.org/stable/modules/preprocessing.html\n",
      "  self.n_iter_ = _check_optimize_result(\"lbfgs\", opt_res, self.max_iter)\n",
      "/home/regis/.local/lib/python3.10/site-packages/sklearn/neural_network/_multilayer_perceptron.py:536: ConvergenceWarning: lbfgs failed to converge (status=1):\n",
      "STOP: TOTAL NO. of ITERATIONS REACHED LIMIT.\n",
      "\n",
      "Increase the number of iterations (max_iter) or scale the data as shown in:\n",
      "    https://scikit-learn.org/stable/modules/preprocessing.html\n",
      "  self.n_iter_ = _check_optimize_result(\"lbfgs\", opt_res, self.max_iter)\n",
      "/home/regis/.local/lib/python3.10/site-packages/sklearn/neural_network/_multilayer_perceptron.py:536: ConvergenceWarning: lbfgs failed to converge (status=1):\n",
      "STOP: TOTAL NO. of ITERATIONS REACHED LIMIT.\n",
      "\n",
      "Increase the number of iterations (max_iter) or scale the data as shown in:\n",
      "    https://scikit-learn.org/stable/modules/preprocessing.html\n",
      "  self.n_iter_ = _check_optimize_result(\"lbfgs\", opt_res, self.max_iter)\n",
      "/home/regis/.local/lib/python3.10/site-packages/sklearn/neural_network/_multilayer_perceptron.py:536: ConvergenceWarning: lbfgs failed to converge (status=1):\n",
      "STOP: TOTAL NO. of ITERATIONS REACHED LIMIT.\n",
      "\n",
      "Increase the number of iterations (max_iter) or scale the data as shown in:\n",
      "    https://scikit-learn.org/stable/modules/preprocessing.html\n",
      "  self.n_iter_ = _check_optimize_result(\"lbfgs\", opt_res, self.max_iter)\n",
      "/home/regis/.local/lib/python3.10/site-packages/sklearn/neural_network/_multilayer_perceptron.py:536: ConvergenceWarning: lbfgs failed to converge (status=1):\n",
      "STOP: TOTAL NO. of ITERATIONS REACHED LIMIT.\n",
      "\n",
      "Increase the number of iterations (max_iter) or scale the data as shown in:\n",
      "    https://scikit-learn.org/stable/modules/preprocessing.html\n",
      "  self.n_iter_ = _check_optimize_result(\"lbfgs\", opt_res, self.max_iter)\n",
      "/home/regis/.local/lib/python3.10/site-packages/sklearn/neural_network/_multilayer_perceptron.py:536: ConvergenceWarning: lbfgs failed to converge (status=1):\n",
      "STOP: TOTAL NO. of ITERATIONS REACHED LIMIT.\n",
      "\n",
      "Increase the number of iterations (max_iter) or scale the data as shown in:\n",
      "    https://scikit-learn.org/stable/modules/preprocessing.html\n",
      "  self.n_iter_ = _check_optimize_result(\"lbfgs\", opt_res, self.max_iter)\n",
      "/home/regis/.local/lib/python3.10/site-packages/sklearn/neural_network/_multilayer_perceptron.py:536: ConvergenceWarning: lbfgs failed to converge (status=1):\n",
      "STOP: TOTAL NO. of ITERATIONS REACHED LIMIT.\n",
      "\n",
      "Increase the number of iterations (max_iter) or scale the data as shown in:\n",
      "    https://scikit-learn.org/stable/modules/preprocessing.html\n",
      "  self.n_iter_ = _check_optimize_result(\"lbfgs\", opt_res, self.max_iter)\n",
      "/home/regis/.local/lib/python3.10/site-packages/sklearn/neural_network/_multilayer_perceptron.py:536: ConvergenceWarning: lbfgs failed to converge (status=1):\n",
      "STOP: TOTAL NO. of ITERATIONS REACHED LIMIT.\n",
      "\n",
      "Increase the number of iterations (max_iter) or scale the data as shown in:\n",
      "    https://scikit-learn.org/stable/modules/preprocessing.html\n",
      "  self.n_iter_ = _check_optimize_result(\"lbfgs\", opt_res, self.max_iter)\n"
     ]
    },
    {
     "data": {
      "image/png": "[encoded data removed]",
      "text/plain": [
       "<Figure size 640x480 with 2 Axes>"
      ]
     },
     "metadata": {},
     "output_type": "display_data"
    }
   ],
   "source": [
    "params = {\n",
    "    #'solver':['lbfgs', 'sgd', 'adam'],\n",
    "    'activation' : ['identity', 'logistic', 'tanh', 'relu'],\n",
    "    'learning_rate_init': [0.001,0.01,0.1]\n",
    "}\n",
    "\n",
    "lr_grid = GridSearchCV(MLPClassifier(solver='lbfgs', alpha=1e-5, hidden_layer_sizes=(5, 2), random_state=1),params, cv=5, verbose=2, n_jobs=-1)\n",
    "lr_grid.fit(x_train, y_train)\n",
    "\n",
    "y_predict=lr_grid.predict(x_test)\n",
    "cm=confusion_matrix(y_test, y_predict)\n",
    "plot_cm(cm)"
   ]
  },
  {
   "cell_type": "code",
   "execution_count": 63,
   "id": "3af87618",
   "metadata": {},
   "outputs": [
    {
     "data": {
      "text/plain": [
       "(0.8054872280037844, 0.7989957193728802, 0.8021379793474831, None)"
      ]
     },
     "execution_count": 63,
     "metadata": {},
     "output_type": "execute_result"
    },
    {
     "name": "stdout",
     "output_type": "stream",
     "text": [
      "[CV] END ......activation=identity, learning_rate_init=0.001; total time=   0.4s\n",
      "[CV] END ......activation=logistic, learning_rate_init=0.001; total time=   1.3s\n",
      "[CV] END ........activation=logistic, learning_rate_init=0.1; total time=   1.3s\n",
      "[CV] END ..........activation=relu, learning_rate_init=0.001; total time=   0.8s\n",
      "[CV] END .......activation=identity, learning_rate_init=0.01; total time=   0.4s\n",
      "[CV] END .......activation=logistic, learning_rate_init=0.01; total time=   1.3s\n",
      "[CV] END ...........activation=tanh, learning_rate_init=0.01; total time=   0.4s\n",
      "[CV] END ............activation=tanh, learning_rate_init=0.1; total time=   0.4s\n",
      "[CV] END ..........activation=relu, learning_rate_init=0.001; total time=   1.2s\n",
      "[CV] END ......activation=identity, learning_rate_init=0.001; total time=   0.4s\n",
      "[CV] END ......activation=logistic, learning_rate_init=0.001; total time=   1.3s\n",
      "[CV] END ........activation=logistic, learning_rate_init=0.1; total time=   1.4s\n",
      "[CV] END ...........activation=relu, learning_rate_init=0.01; total time=   0.7s\n",
      "[CV] END ......activation=identity, learning_rate_init=0.001; total time=   0.3s\n",
      "[CV] END ........activation=identity, learning_rate_init=0.1; total time=   0.3s\n",
      "[CV] END ........activation=logistic, learning_rate_init=0.1; total time=   1.3s\n",
      "[CV] END ...........activation=tanh, learning_rate_init=0.01; total time=   1.3s\n",
      "[CV] END ...........activation=relu, learning_rate_init=0.01; total time=   0.7s\n",
      "[CV] END ........activation=identity, learning_rate_init=0.1; total time=   0.4s\n",
      "[CV] END .......activation=logistic, learning_rate_init=0.01; total time=   1.3s\n",
      "[CV] END ...........activation=tanh, learning_rate_init=0.01; total time=   1.4s\n",
      "[CV] END ...........activation=relu, learning_rate_init=0.01; total time=   0.4s\n",
      "[CV] END ............activation=relu, learning_rate_init=0.1; total time=   0.3s\n",
      "[CV] END .......activation=identity, learning_rate_init=0.01; total time=   0.3s\n",
      "[CV] END ......activation=logistic, learning_rate_init=0.001; total time=   1.2s\n",
      "[CV] END ........activation=logistic, learning_rate_init=0.1; total time=   1.3s\n",
      "[CV] END ..........activation=relu, learning_rate_init=0.001; total time=   1.0s\n",
      "[CV] END .......activation=identity, learning_rate_init=0.01; total time=   0.4s\n",
      "[CV] END .......activation=logistic, learning_rate_init=0.01; total time=   1.2s\n",
      "[CV] END ..........activation=tanh, learning_rate_init=0.001; total time=   0.4s\n",
      "[CV] END ...........activation=tanh, learning_rate_init=0.01; total time=   0.4s\n",
      "[CV] END ............activation=tanh, learning_rate_init=0.1; total time=   0.4s\n",
      "[CV] END ..........activation=relu, learning_rate_init=0.001; total time=   0.5s\n",
      "[CV] END ............activation=relu, learning_rate_init=0.1; total time=   0.5s\n",
      "[CV] END .......activation=identity, learning_rate_init=0.01; total time=   0.4s\n",
      "[CV] END ......activation=logistic, learning_rate_init=0.001; total time=   1.3s\n",
      "[CV] END ..........activation=tanh, learning_rate_init=0.001; total time=   1.4s\n",
      "[CV] END ...........activation=relu, learning_rate_init=0.01; total time=   1.0s\n",
      "[CV] END ........activation=identity, learning_rate_init=0.1; total time=   0.4s\n",
      "[CV] END .......activation=logistic, learning_rate_init=0.01; total time=   1.3s\n",
      "[CV] END ..........activation=tanh, learning_rate_init=0.001; total time=   1.3s\n",
      "[CV] END ...........activation=relu, learning_rate_init=0.01; total time=   1.0s\n",
      "[CV] END ......activation=identity, learning_rate_init=0.001; total time=   0.4s\n",
      "[CV] END ........activation=identity, learning_rate_init=0.1; total time=   0.3s\n",
      "[CV] END ........activation=logistic, learning_rate_init=0.1; total time=   1.3s\n",
      "[CV] END ...........activation=tanh, learning_rate_init=0.01; total time=   0.5s\n",
      "[CV] END ............activation=tanh, learning_rate_init=0.1; total time=   1.3s\n",
      "[CV] END ............activation=relu, learning_rate_init=0.1; total time=   0.4s\n",
      "[CV] END ......activation=identity, learning_rate_init=0.001; total time=   0.2s\n",
      "[CV] END ........activation=identity, learning_rate_init=0.1; total time=   0.4s\n",
      "[CV] END .......activation=logistic, learning_rate_init=0.01; total time=   1.2s\n",
      "[CV] END ..........activation=tanh, learning_rate_init=0.001; total time=   0.4s\n",
      "[CV] END ............activation=tanh, learning_rate_init=0.1; total time=   1.4s\n",
      "[CV] END ............activation=relu, learning_rate_init=0.1; total time=   0.6s\n",
      "[CV] END .......activation=identity, learning_rate_init=0.01; total time=   0.4s\n",
      "[CV] END ......activation=logistic, learning_rate_init=0.001; total time=   1.3s\n",
      "[CV] END ..........activation=tanh, learning_rate_init=0.001; total time=   0.5s\n",
      "[CV] END ............activation=tanh, learning_rate_init=0.1; total time=   0.5s\n",
      "[CV] END ..........activation=relu, learning_rate_init=0.001; total time=   0.6s\n",
      "[CV] END ............activation=relu, learning_rate_init=0.1; total time=   0.9s\n"
     ]
    }
   ],
   "source": [
    "precision_recall_fscore_support(y_test, y_predict, average='macro')"
   ]
  },
  {
   "cell_type": "markdown",
   "id": "7685eb8a",
   "metadata": {},
   "source": [
    "# os resultados, \n",
    "# e conclusões. "
   ]
  },
  {
   "cell_type": "markdown",
   "id": "b2392cdd",
   "metadata": {},
   "source": [
    "Os databases em formato csv e os códigos python podem ser acessados no\n",
    "repositório: https://github.com/regisalbuquerque/ia_trab01"
   ]
  },
  {
   "cell_type": "markdown",
   "id": "8fee6f14",
   "metadata": {},
   "source": [
    "## Conclusão\n",
    "\n"
   ]
  }
 ],
 "metadata": {
  "kernelspec": {
   "display_name": "Python 3 (ipykernel)",
   "language": "python",
   "name": "python3"
  },
  "language_info": {
   "codemirror_mode": {
    "name": "ipython",
    "version": 3
   },
   "file_extension": ".py",
   "mimetype": "text/x-python",
   "name": "python",
   "nbconvert_exporter": "python",
   "pygments_lexer": "ipython3",
   "version": "3.10.6"
  }
 },
 "nbformat": 4,
 "nbformat_minor": 5
}
