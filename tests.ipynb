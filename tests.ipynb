{
 "cells": [
  {
   "cell_type": "markdown",
   "id": "4f8845e3",
   "metadata": {},
   "source": [
    "# Trabalho de Aprendizado de Máquina \n",
    "---\n",
    "## Disciplina: Inteligência Artificial - PCI\n",
    "### **Professora: Dra. Aline Paes**\n",
    "### **Alunos:**\n",
    "*   Régis Antônio Saraiva Albuquerque\n",
    "*   Wilker Luiz Gadelha Maia"
   ]
  },
  {
   "cell_type": "markdown",
   "id": "23526631",
   "metadata": {},
   "source": [
    "Preparar um relatório contendo:\n",
    "\n",
    "1. uma pequena introdução, \n",
    "2. a descrição da base (e alguma análise exploratório que possa ter sido conduzida nela), \n",
    "3. a metodologia experimental, \n",
    "4. os resultados, \n",
    "5. e conclusões. "
   ]
  },
  {
   "cell_type": "markdown",
   "id": "175910b0",
   "metadata": {},
   "source": [
    "# Relatório de Experimentos com Algoritmos de Aprendizado de Máquina"
   ]
  },
  {
   "cell_type": "markdown",
   "id": "839b7cf5",
   "metadata": {},
   "source": [
    "# Introdução"
   ]
  },
  {
   "cell_type": "markdown",
   "id": "f8b23647",
   "metadata": {},
   "source": [
    "Este relatório apresenta alguns experimentos com algoritmos de classificação do tipo Redes Neurais existentes na\n",
    "plataforma scikitlearn no ambito de NLP. FOram realizados treinamentos e testes a fim de observar, entre\n",
    "outras, as métricas de acurácia, por exemplo, que mede o quão frequente um\n",
    "classificador está correto. A Matriz de Confusão consiste em uma tabela que\n",
    "permite visualizar o desempenho de um algoritmo de classificação. Precisão\n",
    "que de todas as classificações de classe Positivo que o modelo possui,\n",
    "demonstra quantas estão corretas. Recall (Revocação) que, entre todas as\n",
    "amostras, verifica quais realmente eram de uma classe, qual a proporção\n",
    "classificada como da classe. E F1-Score que consiste na média harmônica\n",
    "entre precisão e recall. Esta medida une precisão e recall em apenas uma\n",
    "medida. Pode-se concluir que pelos testes realizados, os algoritmos apresentaram\n",
    "alta eficiência para a base selecionada."
   ]
  },
  {
   "cell_type": "markdown",
   "id": "8948ff42",
   "metadata": {},
   "source": [
    "### Métricas de Teste\n",
    "**Acurácia**: Mede o quão frequente um classificador está correto: \n",
    "\n",
    "Acurácia = quantidade de acertos / (quantidade de acertos - quantidade de\n",
    "erros)\n",
    "\n",
    "**Matriz de Confusão**: Consiste em uma tabela que permite visualizar o\n",
    "desempenho de um algoritmo de classificação. As linhas da matriz\n",
    "representam instâncias de uma classe prevista enquanto as colunas\n",
    "representam instâncias da classe atual. Ela permite que seja feita uma análise\n",
    "mais detalhada da situação do classificador uma vez que distingue os\n",
    "resultados em quatro classes. Para um problema relacionado a identificação se\n",
    "determinado e-mail é spam ou não:\n",
    "\n",
    "Verdadeiros Positivos(True positive): casos em que a classe SPAM e o\n",
    "e-mail realmente era um spam.\n",
    "\n",
    "Falsos positivos(False positives): casos em que a classe SPAM e na\n",
    "verdade eram e-mails comuns.\n",
    "\n",
    "Falsos Verdadeiros (True Negative): casos onde era e-mail comum\n",
    "(ausência de spam) e realmente eram.\n",
    "\n",
    "Falsos Negativos (False Negative): casos em que eram spam e na verdade\n",
    "eram spam.\n",
    "\n",
    "**Precisão**: De todas as classificações de classe Positivo que o modelo faz,\n",
    "quantas estão corretas? A fórmula é dada por:\n",
    "\n",
    "Precisão = Verdadeiros Positivos / (Verdadeiros Positivos + Falsos Positivo)\n",
    "\n",
    "**Recall (Revocação)**: Entre todas as amostras que realmente eram de uma\n",
    "classe, qual a proporção classificada como da classe. A fórmula é dada por:\n",
    "\n",
    "Recall = Verdadeiros Positivos / (Verdadeiros Positivos + Falsos Negativos)\n",
    "\n",
    "**F1-Score**: Consiste na média harmônica entre precisão e recall. Esta medida\n",
    "une precisão e recall em apenas uma medida.\n",
    "\n",
    "F1 = 2 * precisão * recall / (precisão + recall)."
   ]
  },
  {
   "cell_type": "markdown",
   "id": "be4e1c90",
   "metadata": {},
   "source": [
    "# a descrição da base (e alguma análise exploratório que possa ter sido conduzida nela), "
   ]
  },
  {
   "cell_type": "markdown",
   "id": "61e90523",
   "metadata": {},
   "source": [
    "\n",
    "#  a metodologia experimental, \n",
    "\n",
    "\n",
    "A avaliação dos algoritmos foi feita em um computador com processador Intel\n",
    "Corei7-9750H de 2.60GHz, 15,5 GiB de memória RAM, 64 bits, placa de vídeo\n",
    "GeForce GTX 1660 Ti Mobile e Internet com velocidade de 300Mbps. O\n",
    "sistema operacional utilizado para os testes foi a distribuição GNU/Linux\n",
    "Ubuntu 22.04.4. LTS."
   ]
  },
  {
   "cell_type": "markdown",
   "id": "7685eb8a",
   "metadata": {},
   "source": [
    "# os resultados, \n",
    "# e conclusões. "
   ]
  },
  {
   "cell_type": "markdown",
   "id": "b2392cdd",
   "metadata": {},
   "source": [
    "Os databases em formato csv e os códigos python podem ser acessados no\n",
    "repositório: https://github.com/regisalbuquerque/ia_trab01"
   ]
  },
  {
   "cell_type": "markdown",
   "id": "8fee6f14",
   "metadata": {},
   "source": [
    "## Conclusão\n",
    "\n"
   ]
  },
  {
   "cell_type": "code",
   "execution_count": null,
   "id": "0aa4be64",
   "metadata": {},
   "outputs": [],
   "source": []
  }
 ],
 "metadata": {
  "kernelspec": {
   "display_name": "Python 3 (ipykernel)",
   "language": "python",
   "name": "python3"
  },
  "language_info": {
   "codemirror_mode": {
    "name": "ipython",
    "version": 3
   },
   "file_extension": ".py",
   "mimetype": "text/x-python",
   "name": "python",
   "nbconvert_exporter": "python",
   "pygments_lexer": "ipython3",
   "version": "3.10.6"
  }
 },
 "nbformat": 4,
 "nbformat_minor": 5
}
