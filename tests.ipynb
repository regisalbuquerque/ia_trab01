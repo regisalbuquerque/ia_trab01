{
 "cells": [
  {
   "cell_type": "markdown",
   "id": "4f8845e3",
   "metadata": {},
   "source": [
    "# Trabalho de Aprendizado de Máquina \n",
    "---\n",
    "## Disciplina: Inteligência Artificial - PCI\n",
    "### **Professora: Dra. Aline Paes**\n",
    "### **Alunos:**\n",
    "*   Régis Antônio Saraiva Albuquerque\n",
    "*   Wilker Luiz Gadelha Maia"
   ]
  },
  {
   "cell_type": "markdown",
   "id": "23526631",
   "metadata": {},
   "source": [
    "Preparar um relatório contendo:\n",
    "\n",
    "1. uma pequena introdução, \n",
    "2. a descrição da base (e alguma análise exploratório que possa ter sido conduzida nela), \n",
    "3. a metodologia experimental, \n",
    "4. os resultados, \n",
    "5. e conclusões. "
   ]
  },
  {
   "cell_type": "code",
   "execution_count": null,
   "id": "0aa4be64",
   "metadata": {},
   "outputs": [],
   "source": [
    "# Importar as Bibliotecas \n",
    "\n",
    "import pandas as pd\n",
    "import spacy\n",
    "# import nltk\n",
    "import string\n",
    "import numpy as np\n",
    "import seaborn as sns\n",
    "from wordcloud import WordCloud\n",
    "import matplotlib.pyplot as plt\n",
    "from spacy.lang.pt.stop_words import STOP_WORDS\n",
    "from spacy.lang.pt import Portuguese\n",
    "\n",
    "# pip install -U scikit-learn scipy matplotlib\n",
    "from sklearn.feature_extraction.text import CountVectorizer, TfidfTransformer, TfidfVectorizer\n",
    "from sklearn.base import TransformerMixin\n",
    "from sklearn.pipeline import Pipeline\n",
    "from sklearn.model_selection import train_test_split, cross_val_score\n",
    "from sklearn.model_selection import GridSearchCV"
   ]
  },
  {
   "cell_type": "markdown",
   "id": "175910b0",
   "metadata": {},
   "source": [
    "# Relatório de Experimentos com Algoritmos de Aprendizado de Máquina"
   ]
  },
  {
   "cell_type": "markdown",
   "id": "839b7cf5",
   "metadata": {},
   "source": [
    "# Introdução"
   ]
  },
  {
   "cell_type": "markdown",
   "id": "f8b23647",
   "metadata": {},
   "source": [
    "Este relatório apresenta alguns experimentos com algoritmos de classificação do tipo Redes Neurais existentes na\n",
    "plataforma scikitlearn no ambito de NLP. FOram realizados treinamentos e testes a fim de observar, entre\n",
    "outras, as métricas de acurácia, por exemplo, que mede o quão frequente um\n",
    "classificador está correto. A Matriz de Confusão consiste em uma tabela que\n",
    "permite visualizar o desempenho de um algoritmo de classificação. Precisão\n",
    "que de todas as classificações de classe Positivo que o modelo possui,\n",
    "demonstra quantas estão corretas. Recall (Revocação) que, entre todas as\n",
    "amostras, verifica quais realmente eram de uma classe, qual a proporção\n",
    "classificada como da classe. E F1-Score que consiste na média harmônica\n",
    "entre precisão e recall. Esta medida une precisão e recall em apenas uma\n",
    "medida. Pode-se concluir que pelos testes realizados, os algoritmos apresentaram\n",
    "alta eficiência para a base selecionada."
   ]
  },
  {
   "cell_type": "markdown",
   "id": "8948ff42",
   "metadata": {},
   "source": [
    "### Métricas de Teste\n",
    "**Acurácia**: Mede o quão frequente um classificador está correto: \n",
    "\n",
    "Acurácia = quantidade de acertos / (quantidade de acertos - quantidade de\n",
    "erros)\n",
    "\n",
    "**Matriz de Confusão**: Consiste em uma tabela que permite visualizar o\n",
    "desempenho de um algoritmo de classificação. As linhas da matriz\n",
    "representam instâncias de uma classe prevista enquanto as colunas\n",
    "representam instâncias da classe atual. Ela permite que seja feita uma análise\n",
    "mais detalhada da situação do classificador uma vez que distingue os\n",
    "resultados em quatro classes. Para um problema relacionado a identificação se\n",
    "determinado e-mail é spam ou não:\n",
    "\n",
    "Verdadeiros Positivos(True positive): casos em que a classe SPAM e o\n",
    "e-mail realmente era um spam.\n",
    "\n",
    "Falsos positivos(False positives): casos em que a classe SPAM e na\n",
    "verdade eram e-mails comuns.\n",
    "\n",
    "Falsos Verdadeiros (True Negative): casos onde era e-mail comum\n",
    "(ausência de spam) e realmente eram.\n",
    "\n",
    "Falsos Negativos (False Negative): casos em que eram spam e na verdade\n",
    "eram spam.\n",
    "\n",
    "**Precisão**: De todas as classificações de classe Positivo que o modelo faz,\n",
    "quantas estão corretas? A fórmula é dada por:\n",
    "\n",
    "Precisão = Verdadeiros Positivos / (Verdadeiros Positivos + Falsos Positivo)\n",
    "\n",
    "**Recall (Revocação)**: Entre todas as amostras que realmente eram de uma\n",
    "classe, qual a proporção classificada como da classe. A fórmula é dada por:\n",
    "\n",
    "Recall = Verdadeiros Positivos / (Verdadeiros Positivos + Falsos Negativos)\n",
    "\n",
    "**F1-Score**: Consiste na média harmônica entre precisão e recall. Esta medida\n",
    "une precisão e recall em apenas uma medida.\n",
    "\n",
    "F1 = 2 * precisão * recall / (precisão + recall)."
   ]
  },
  {
   "cell_type": "markdown",
   "id": "be4e1c90",
   "metadata": {},
   "source": [
    "# a descrição da base (e alguma análise exploratório que possa ter sido conduzida nela), \n",
    "\n",
    "\n",
    "A base de dados foi escolhida do conjunto de bases presente nesta url: https://forum.ailab.unb.br/t/datasets-em-portugues/251;\n",
    "\n",
    "Base Escolhida: B2W-Reviews01\n",
    "```\n",
    "B2W-Reviews01 é um corpus aberto de reviews de produtos. Ele contém mais de 130 mil avaliações de clientes de comércio eletrônico, coletadas no site da Americanas.com entre janeiro e maio de 2018. O B2W-Reviews01 oferece informações valiosas sobre o perfil do avaliador, como sexo, idade e localização geográfica (Link: https://github.com/americanas-tech/b2w-reviews01). \n",
    "```\n",
    "\n",
    "\n"
   ]
  },
  {
   "cell_type": "code",
   "execution_count": null,
   "id": "c6df3688",
   "metadata": {},
   "outputs": [],
   "source": [
    "# DATASET: https://raw.githubusercontent.com/americanas-tech/b2w-reviews01/main/B2W-Reviews01.csv\n",
    "\n",
    "df = pd.read_csv('https://raw.githubusercontent.com/americanas-tech/b2w-reviews01/main/B2W-Reviews01.csv', dtype={'product_id': str, 'review_text': str})\n",
    "\n",
    "# Imprimir parte do DataSet para entendimento\n",
    "#print(\"Quantidade de Linhas: \", len(df.index))\n",
    "#df.head(5)\n",
    "# print (df.shape)\n",
    "\n",
    "df.info()\n"
   ]
  },
  {
   "cell_type": "markdown",
   "id": "09f127f6",
   "metadata": {},
   "source": [
    "## Nosso principal interesse é a coluna review_text e recommend_to_a_friend. Vamos remover todas as linhas que não possuem review e recommend_to_a_friend."
   ]
  },
  {
   "cell_type": "code",
   "execution_count": null,
   "id": "313d5d7a",
   "metadata": {},
   "outputs": [],
   "source": [
    "print(df['review_text'].isnull().sum(),df['recommend_to_a_friend'].isnull().sum())"
   ]
  },
  {
   "cell_type": "code",
   "execution_count": null,
   "id": "d03f546e",
   "metadata": {},
   "outputs": [],
   "source": [
    "# Remover linhas que tenham texto nulo\n",
    "df.dropna(subset=['review_text'], inplace=True)\n",
    "df.dropna(subset=['recommend_to_a_friend'], inplace=True)"
   ]
  },
  {
   "cell_type": "code",
   "execution_count": null,
   "id": "7c0cc338",
   "metadata": {},
   "outputs": [],
   "source": [
    "print(df['review_text'].isnull().sum(),df['recommend_to_a_friend'].isnull().sum())"
   ]
  },
  {
   "cell_type": "markdown",
   "id": "05268d3c",
   "metadata": {},
   "source": [
    "### Agora vamos remover as colunas desnecessárias"
   ]
  },
  {
   "cell_type": "code",
   "execution_count": null,
   "id": "a5ad8cb7",
   "metadata": {},
   "outputs": [],
   "source": [
    "# focar no texto e ignorar as demais colunas\n",
    "comp_df = df[['review_text','recommend_to_a_friend']]\n",
    "comp_df.columns =['text','label']\n",
    "comp_df.info()"
   ]
  },
  {
   "cell_type": "code",
   "execution_count": null,
   "id": "8a6f8fd7",
   "metadata": {},
   "outputs": [],
   "source": [
    "comp_df['label'].value_counts().plot.bar()\n",
    "print(comp_df['label'].value_counts())"
   ]
  },
  {
   "cell_type": "code",
   "execution_count": null,
   "id": "e09f5b5d",
   "metadata": {},
   "outputs": [],
   "source": [
    "# Transformar o rótulo para númerico\n",
    "\n",
    "comp_df['label'] = comp_df.label.replace('Yes', 1)\n",
    "comp_df['label'] = comp_df.label.replace('No',2)"
   ]
  },
  {
   "cell_type": "code",
   "execution_count": null,
   "id": "bd45c8a3",
   "metadata": {},
   "outputs": [],
   "source": [
    "comp_df.head()"
   ]
  },
  {
   "cell_type": "markdown",
   "id": "98970b90",
   "metadata": {},
   "source": [
    "### A baixo é feito a limpeza da base, removendo caracteres especiais com expressões regulares. Experimentar diferentes estratégias de normalização (pré-processamento) (p.ex., remoção de stop-words, lematização, etc).  impeza e normalização "
   ]
  },
  {
   "cell_type": "code",
   "execution_count": null,
   "id": "0ea9add3",
   "metadata": {},
   "outputs": [],
   "source": [
    "#Remove @ tags\n",
    "comp_df.text = comp_df.text.str.replace(r'(@\\w*)',\"USER\")\n",
    "\n",
    "#Remove URL\n",
    "comp_df.text = comp_df.text.str.replace(r\"http\\S+\", \"HTTP\")\n",
    "\n",
    "#Remove # tag\n",
    "comp_df.text = comp_df.text.str.replace(r'#+',\"\")\n",
    "\n",
    "\n",
    "#Remove all non-character\n",
    "#comp_df.text = comp_df.text.str.replace(r\"[^a-zA-Z ]\",\"\")\n",
    "\n",
    "# Remove extra space\n",
    "comp_df.text = comp_df.text.str.replace(r'( +)',\" \")\n",
    "comp_df.text = comp_df.text.str.strip()\n",
    "\n",
    "# Remove números\n",
    "comp_df.text = comp_df.text.str.replace('\\d+', '')\n",
    "\n",
    "# Change to lowercase\n",
    "comp_df.text = comp_df.text.str.lower()"
   ]
  },
  {
   "cell_type": "code",
   "execution_count": null,
   "id": "523efb98",
   "metadata": {},
   "outputs": [],
   "source": [
    "comp_df.head(20)"
   ]
  },
  {
   "cell_type": "code",
   "execution_count": null,
   "id": "f2bc3212",
   "metadata": {},
   "outputs": [],
   "source": [
    "!python -m spacy download pt\n",
    "\n",
    "!python -m spacy download pt_core_news_lg"
   ]
  },
  {
   "cell_type": "code",
   "execution_count": null,
   "id": "80bbc9ba",
   "metadata": {},
   "outputs": [],
   "source": [
    "# Create our list of punctuation marks\n",
    "punctuations = string.punctuation\n",
    "\n",
    "# Create our list of stopwords\n",
    "nlp = spacy.load(\"pt_core_news_sm\") \n",
    "stop_words = spacy.lang.pt.stop_words.STOP_WORDS\n",
    "\n",
    "#parser = English()\n",
    "\n",
    "\n",
    "# Creating our tokenizer function\n",
    "def spacy_tokenizer(sentence):\n",
    "    # Creating our token object, which is used to create documents with linguistic annotations.\n",
    "    mytokens = nlp(sentence)\n",
    "    #mytokens = nlp(sentence)\n",
    "    #print(mytokens)\n",
    "    #for word in mytokens:\n",
    "    #  print(word.lemma_)\n",
    "\n",
    "    # Lemmatizing each token and converting each token into lowercase\n",
    "    #mytokens = [ word.lemma_.lower().strip() if word.lemma_ != \"-PRON-\" else word.lower_ for word in mytokens ]\n",
    "    mytokens = [ word.lemma_.lower().strip() for word in mytokens ]\n",
    "    #print(mytokens)\n",
    "    #mytokens = [ word.lemma_.lower().strip() for word in mytokens ]\n",
    "\n",
    "    # Removing stop words\n",
    "    mytokens = [ word for word in mytokens if word not in stop_words and word not in punctuations ]\n",
    "    #print(mytokens)\n",
    "\n",
    "    # return preprocessed list of tokens\n",
    "    return mytokens"
   ]
  },
  {
   "cell_type": "code",
   "execution_count": 47,
   "id": "4cbe2d8d",
   "metadata": {},
   "outputs": [
    {
     "name": "stderr",
     "output_type": "stream",
     "text": [
      "/tmp/ipykernel_11065/878057982.py:2: SettingWithCopyWarning: \n",
      "A value is trying to be set on a copy of a slice from a DataFrame.\n",
      "Try using .loc[row_indexer,col_indexer] = value instead\n",
      "\n",
      "See the caveats in the documentation: https://pandas.pydata.org/pandas-docs/stable/user_guide/indexing.html#returning-a-view-versus-a-copy\n",
      "  teste['corpus'] = [spacy_tokenizer(text) for text in teste.text]\n"
     ]
    },
    {
     "data": {
      "text/html": [
       "<div>\n",
       "<style scoped>\n",
       "    .dataframe tbody tr th:only-of-type {\n",
       "        vertical-align: middle;\n",
       "    }\n",
       "\n",
       "    .dataframe tbody tr th {\n",
       "        vertical-align: top;\n",
       "    }\n",
       "\n",
       "    .dataframe thead th {\n",
       "        text-align: right;\n",
       "    }\n",
       "</style>\n",
       "<table border=\"1\" class=\"dataframe\">\n",
       "  <thead>\n",
       "    <tr style=\"text-align: right;\">\n",
       "      <th></th>\n",
       "      <th>text</th>\n",
       "      <th>label</th>\n",
       "      <th>corpus</th>\n",
       "    </tr>\n",
       "  </thead>\n",
       "  <tbody>\n",
       "    <tr>\n",
       "      <th>0</th>\n",
       "      <td>estou contente com a compra entrega rápida o ú...</td>\n",
       "      <td>1</td>\n",
       "      <td>[contente, compra, entregar, rápido, único, pr...</td>\n",
       "    </tr>\n",
       "    <tr>\n",
       "      <th>1</th>\n",
       "      <td>por apenas r$.,eu consegui comprar esse lindo ...</td>\n",
       "      <td>1</td>\n",
       "      <td>[r$, .,eu, conseguir, comprar, lindo, copo, ac...</td>\n",
       "    </tr>\n",
       "    <tr>\n",
       "      <th>2</th>\n",
       "      <td>supera em agilidade e praticidade outras panel...</td>\n",
       "      <td>1</td>\n",
       "      <td>[superar, agilidade, praticidade, outro, panel...</td>\n",
       "    </tr>\n",
       "    <tr>\n",
       "      <th>3</th>\n",
       "      <td>meu filho amou! parece de verdade com tantos d...</td>\n",
       "      <td>1</td>\n",
       "      <td>[filho, amar, parecer, verdade, detalhe]</td>\n",
       "    </tr>\n",
       "    <tr>\n",
       "      <th>4</th>\n",
       "      <td>a entrega foi no prazo, as americanas estão de...</td>\n",
       "      <td>1</td>\n",
       "      <td>[entrega, em o, prazo, americana, parabéns, sm...</td>\n",
       "    </tr>\n",
       "  </tbody>\n",
       "</table>\n",
       "</div>"
      ],
      "text/plain": [
       "                                                text  label  \\\n",
       "0  estou contente com a compra entrega rápida o ú...      1   \n",
       "1  por apenas r$.,eu consegui comprar esse lindo ...      1   \n",
       "2  supera em agilidade e praticidade outras panel...      1   \n",
       "3  meu filho amou! parece de verdade com tantos d...      1   \n",
       "4  a entrega foi no prazo, as americanas estão de...      1   \n",
       "\n",
       "                                              corpus  \n",
       "0  [contente, compra, entregar, rápido, único, pr...  \n",
       "1  [r$, .,eu, conseguir, comprar, lindo, copo, ac...  \n",
       "2  [superar, agilidade, praticidade, outro, panel...  \n",
       "3           [filho, amar, parecer, verdade, detalhe]  \n",
       "4  [entrega, em o, prazo, americana, parabéns, sm...  "
      ]
     },
     "execution_count": 47,
     "metadata": {},
     "output_type": "execute_result"
    }
   ],
   "source": [
    "teste = comp_df.head(5000)\n",
    "teste['corpus'] = [spacy_tokenizer(text) for text in teste.text]\n",
    "teste.head()"
   ]
  },
  {
   "cell_type": "code",
   "execution_count": 48,
   "id": "5f347452",
   "metadata": {},
   "outputs": [
    {
     "name": "stderr",
     "output_type": "stream",
     "text": [
      "/tmp/ipykernel_11065/3693335669.py:1: SettingWithCopyWarning: \n",
      "A value is trying to be set on a copy of a slice from a DataFrame.\n",
      "Try using .loc[row_indexer,col_indexer] = value instead\n",
      "\n",
      "See the caveats in the documentation: https://pandas.pydata.org/pandas-docs/stable/user_guide/indexing.html#returning-a-view-versus-a-copy\n",
      "  teste.corpus = teste.apply(lambda x: \" \".join(x.corpus),axis=1)\n"
     ]
    },
    {
     "data": {
      "text/html": [
       "<div>\n",
       "<style scoped>\n",
       "    .dataframe tbody tr th:only-of-type {\n",
       "        vertical-align: middle;\n",
       "    }\n",
       "\n",
       "    .dataframe tbody tr th {\n",
       "        vertical-align: top;\n",
       "    }\n",
       "\n",
       "    .dataframe thead th {\n",
       "        text-align: right;\n",
       "    }\n",
       "</style>\n",
       "<table border=\"1\" class=\"dataframe\">\n",
       "  <thead>\n",
       "    <tr style=\"text-align: right;\">\n",
       "      <th></th>\n",
       "      <th>text</th>\n",
       "      <th>label</th>\n",
       "      <th>corpus</th>\n",
       "    </tr>\n",
       "  </thead>\n",
       "  <tbody>\n",
       "    <tr>\n",
       "      <th>0</th>\n",
       "      <td>estou contente com a compra entrega rápida o ú...</td>\n",
       "      <td>1</td>\n",
       "      <td>contente compra entregar rápido único problema...</td>\n",
       "    </tr>\n",
       "    <tr>\n",
       "      <th>1</th>\n",
       "      <td>por apenas r$.,eu consegui comprar esse lindo ...</td>\n",
       "      <td>1</td>\n",
       "      <td>r$ .,eu conseguir comprar lindo copo acrílico</td>\n",
       "    </tr>\n",
       "    <tr>\n",
       "      <th>2</th>\n",
       "      <td>supera em agilidade e praticidade outras panel...</td>\n",
       "      <td>1</td>\n",
       "      <td>superar agilidade praticidade outro panela elé...</td>\n",
       "    </tr>\n",
       "    <tr>\n",
       "      <th>3</th>\n",
       "      <td>meu filho amou! parece de verdade com tantos d...</td>\n",
       "      <td>1</td>\n",
       "      <td>filho amar parecer verdade detalhe</td>\n",
       "    </tr>\n",
       "    <tr>\n",
       "      <th>4</th>\n",
       "      <td>a entrega foi no prazo, as americanas estão de...</td>\n",
       "      <td>1</td>\n",
       "      <td>entrega em o prazo americana parabéns smart tv...</td>\n",
       "    </tr>\n",
       "  </tbody>\n",
       "</table>\n",
       "</div>"
      ],
      "text/plain": [
       "                                                text  label  \\\n",
       "0  estou contente com a compra entrega rápida o ú...      1   \n",
       "1  por apenas r$.,eu consegui comprar esse lindo ...      1   \n",
       "2  supera em agilidade e praticidade outras panel...      1   \n",
       "3  meu filho amou! parece de verdade com tantos d...      1   \n",
       "4  a entrega foi no prazo, as americanas estão de...      1   \n",
       "\n",
       "                                              corpus  \n",
       "0  contente compra entregar rápido único problema...  \n",
       "1      r$ .,eu conseguir comprar lindo copo acrílico  \n",
       "2  superar agilidade praticidade outro panela elé...  \n",
       "3                 filho amar parecer verdade detalhe  \n",
       "4  entrega em o prazo americana parabéns smart tv...  "
      ]
     },
     "execution_count": 48,
     "metadata": {},
     "output_type": "execute_result"
    }
   ],
   "source": [
    "teste.corpus = teste.apply(lambda x: \" \".join(x.corpus),axis=1)\n",
    "teste.head()"
   ]
  },
  {
   "cell_type": "markdown",
   "id": "61e90523",
   "metadata": {},
   "source": [
    "\n",
    "#  A metodologia experimental, \n",
    "\n",
    "Após a preparação dos dados vamos realizar os experimentos com os classificadores de rede neural do scikit learn\n",
    "\n",
    "A avaliação dos algoritmos foi feita em um computador com processador Intel\n",
    "Corei7-9750H de 2.60GHz, 15,5 GiB de memória RAM, 64 bits, placa de vídeo\n",
    "GeForce GTX 1660 Ti Mobile e Internet com velocidade de 300Mbps. O\n",
    "sistema operacional utilizado para os testes foi a distribuição GNU/Linux\n",
    "Ubuntu 22.04.4. LTS."
   ]
  },
  {
   "cell_type": "markdown",
   "id": "a5918c82",
   "metadata": {},
   "source": [
    "# Vamos dividir a base em treino e teste"
   ]
  },
  {
   "cell_type": "code",
   "execution_count": 49,
   "id": "53b79fa8",
   "metadata": {},
   "outputs": [],
   "source": [
    "train_df = teste.head(4000)\n",
    "test_df = teste.tail(1000)"
   ]
  },
  {
   "cell_type": "code",
   "execution_count": 51,
   "id": "e548b729",
   "metadata": {},
   "outputs": [
    {
     "name": "stdout",
     "output_type": "stream",
     "text": [
      "(4000, 2198)\n",
      "(1000, 2198)\n"
     ]
    }
   ],
   "source": [
    "x_train = train_df.corpus\n",
    "y_train = train_df.label\n",
    "\n",
    "x_test = test_df.corpus\n",
    "y_test = test_df.label\n",
    "\n",
    "freq_vector = CountVectorizer(min_df=5, ngram_range=(1,2),stop_words='english').fit(teste.corpus)\n",
    "\n",
    "x_train = freq_vector.transform(x_train)\n",
    "x_test = freq_vector.transform(x_test)\n",
    "\n",
    "print(x_train.shape)\n",
    "print(x_test.shape)"
   ]
  },
  {
   "cell_type": "markdown",
   "id": "8f93b42e",
   "metadata": {},
   "source": [
    "## Utilizamos o classificador MLPClassifier (Multi-layer Perceptron classifier.)\n",
    "\n",
    "\n",
    "https://scikit-learn.org/stable/modules/generated/sklearn.neural_network.MLPClassifier.html"
   ]
  },
  {
   "cell_type": "code",
   "execution_count": 55,
   "id": "6558b841",
   "metadata": {},
   "outputs": [
    {
     "data": {
      "text/plain": [
       "(0.7899627775638557, 0.7988369816552111, 0.7941840047103206, None)"
      ]
     },
     "execution_count": 55,
     "metadata": {},
     "output_type": "execute_result"
    }
   ],
   "source": [
    "from sklearn.neural_network import MLPClassifier\n",
    "clf = MLPClassifier(solver='lbfgs', alpha=1e-5, hidden_layer_sizes=(5, 2), random_state=1)\n",
    "clf.fit(x_train, y_train)\n",
    "\n",
    "from sklearn.metrics import precision_recall_fscore_support\n",
    "#y_pred_train=clf.predict(x_train)\n",
    "#precision_recall_fscore_support(y_train, y_pred_train, average='macro')\n",
    "\n",
    "y_pred=clf.predict(x_test)\n",
    "precision_recall_fscore_support(y_test, y_pred, average='macro')"
   ]
  },
  {
   "cell_type": "code",
   "execution_count": 56,
   "id": "2edf8925",
   "metadata": {},
   "outputs": [
    {
     "data": {
      "image/png": "[encoded data removed]",
      "text/plain": [
       "<Figure size 640x480 with 2 Axes>"
      ]
     },
     "metadata": {},
     "output_type": "display_data"
    }
   ],
   "source": [
    "from sklearn.metrics import confusion_matrix\n",
    "cm=confusion_matrix(y_test, y_pred)\n",
    "def plot_cm(conf_matrix):\n",
    "  sns.set(font_scale=1.4,color_codes=True,palette=\"deep\")\n",
    "  sns.heatmap(cm,annot=True,annot_kws={\"size\":16},fmt=\"d\",cmap=\"YlGnBu\")\n",
    "  plt.title(\"Confusion Matrix\")\n",
    "  plt.xlabel(\"Predicted Value\")\n",
    "  plt.ylabel(\"True Value\")\n",
    "plot_cm(cm)"
   ]
  },
  {
   "cell_type": "markdown",
   "id": "abcbaf17",
   "metadata": {},
   "source": [
    "# Experimentar com ao menos duas alterações de hiperparâmetros (tipo da ativação, alteração na arquitetura, otimizador, ajuste da taxa de aprendizado, ajustar ou não a taxa de aprendizado, etc)."
   ]
  },
  {
   "cell_type": "code",
   "execution_count": 57,
   "id": "e58e32c1",
   "metadata": {},
   "outputs": [
    {
     "name": "stderr",
     "output_type": "stream",
     "text": [
      "[Parallel(n_jobs=-1)]: Using backend LokyBackend with 12 concurrent workers.\n",
      "/home/regis/.local/lib/python3.10/site-packages/sklearn/neural_network/_multilayer_perceptron.py:536: ConvergenceWarning: lbfgs failed to converge (status=1):\n",
      "STOP: TOTAL NO. of ITERATIONS REACHED LIMIT.\n",
      "\n",
      "Increase the number of iterations (max_iter) or scale the data as shown in:\n",
      "    https://scikit-learn.org/stable/modules/preprocessing.html\n",
      "  self.n_iter_ = _check_optimize_result(\"lbfgs\", opt_res, self.max_iter)\n",
      "[Parallel(n_jobs=-1)]: Done  10 out of  10 | elapsed:    1.8s finished\n"
     ]
    },
    {
     "data": {
      "text/plain": [
       "0.849"
      ]
     },
     "execution_count": 57,
     "metadata": {},
     "output_type": "execute_result"
    }
   ],
   "source": [
    "cross_val_score(MLPClassifier(solver='lbfgs', alpha=1e-5, hidden_layer_sizes=(5, 2), random_state=1), x_train, y_train, cv=10, verbose=1, n_jobs=-1).mean()"
   ]
  },
  {
   "cell_type": "code",
   "execution_count": 62,
   "id": "e8fc099b",
   "metadata": {},
   "outputs": [
    {
     "name": "stdout",
     "output_type": "stream",
     "text": [
      "Fitting 5 folds for each of 12 candidates, totalling 60 fits\n"
     ]
    },
    {
     "name": "stderr",
     "output_type": "stream",
     "text": [
      "/home/regis/.local/lib/python3.10/site-packages/sklearn/neural_network/_multilayer_perceptron.py:536: ConvergenceWarning: lbfgs failed to converge (status=1):\n",
      "STOP: TOTAL NO. of ITERATIONS REACHED LIMIT.\n",
      "\n",
      "Increase the number of iterations (max_iter) or scale the data as shown in:\n",
      "    https://scikit-learn.org/stable/modules/preprocessing.html\n",
      "  self.n_iter_ = _check_optimize_result(\"lbfgs\", opt_res, self.max_iter)\n",
      "/home/regis/.local/lib/python3.10/site-packages/sklearn/neural_network/_multilayer_perceptron.py:536: ConvergenceWarning: lbfgs failed to converge (status=1):\n",
      "STOP: TOTAL NO. of ITERATIONS REACHED LIMIT.\n",
      "\n",
      "Increase the number of iterations (max_iter) or scale the data as shown in:\n",
      "    https://scikit-learn.org/stable/modules/preprocessing.html\n",
      "  self.n_iter_ = _check_optimize_result(\"lbfgs\", opt_res, self.max_iter)\n",
      "/home/regis/.local/lib/python3.10/site-packages/sklearn/neural_network/_multilayer_perceptron.py:536: ConvergenceWarning: lbfgs failed to converge (status=1):\n",
      "STOP: TOTAL NO. of ITERATIONS REACHED LIMIT.\n",
      "\n",
      "Increase the number of iterations (max_iter) or scale the data as shown in:\n",
      "    https://scikit-learn.org/stable/modules/preprocessing.html\n",
      "  self.n_iter_ = _check_optimize_result(\"lbfgs\", opt_res, self.max_iter)\n",
      "/home/regis/.local/lib/python3.10/site-packages/sklearn/neural_network/_multilayer_perceptron.py:536: ConvergenceWarning: lbfgs failed to converge (status=1):\n",
      "STOP: TOTAL NO. of ITERATIONS REACHED LIMIT.\n",
      "\n",
      "Increase the number of iterations (max_iter) or scale the data as shown in:\n",
      "    https://scikit-learn.org/stable/modules/preprocessing.html\n",
      "  self.n_iter_ = _check_optimize_result(\"lbfgs\", opt_res, self.max_iter)\n",
      "/home/regis/.local/lib/python3.10/site-packages/sklearn/neural_network/_multilayer_perceptron.py:536: ConvergenceWarning: lbfgs failed to converge (status=1):\n",
      "STOP: TOTAL NO. of ITERATIONS REACHED LIMIT.\n",
      "\n",
      "Increase the number of iterations (max_iter) or scale the data as shown in:\n",
      "    https://scikit-learn.org/stable/modules/preprocessing.html\n",
      "  self.n_iter_ = _check_optimize_result(\"lbfgs\", opt_res, self.max_iter)\n",
      "/home/regis/.local/lib/python3.10/site-packages/sklearn/neural_network/_multilayer_perceptron.py:536: ConvergenceWarning: lbfgs failed to converge (status=1):\n",
      "STOP: TOTAL NO. of ITERATIONS REACHED LIMIT.\n",
      "\n",
      "Increase the number of iterations (max_iter) or scale the data as shown in:\n",
      "    https://scikit-learn.org/stable/modules/preprocessing.html\n",
      "  self.n_iter_ = _check_optimize_result(\"lbfgs\", opt_res, self.max_iter)\n",
      "/home/regis/.local/lib/python3.10/site-packages/sklearn/neural_network/_multilayer_perceptron.py:536: ConvergenceWarning: lbfgs failed to converge (status=1):\n",
      "STOP: TOTAL NO. of ITERATIONS REACHED LIMIT.\n",
      "\n",
      "Increase the number of iterations (max_iter) or scale the data as shown in:\n",
      "    https://scikit-learn.org/stable/modules/preprocessing.html\n",
      "  self.n_iter_ = _check_optimize_result(\"lbfgs\", opt_res, self.max_iter)\n",
      "/home/regis/.local/lib/python3.10/site-packages/sklearn/neural_network/_multilayer_perceptron.py:536: ConvergenceWarning: lbfgs failed to converge (status=1):\n",
      "STOP: TOTAL NO. of ITERATIONS REACHED LIMIT.\n",
      "\n",
      "Increase the number of iterations (max_iter) or scale the data as shown in:\n",
      "    https://scikit-learn.org/stable/modules/preprocessing.html\n",
      "  self.n_iter_ = _check_optimize_result(\"lbfgs\", opt_res, self.max_iter)\n",
      "/home/regis/.local/lib/python3.10/site-packages/sklearn/neural_network/_multilayer_perceptron.py:536: ConvergenceWarning: lbfgs failed to converge (status=1):\n",
      "STOP: TOTAL NO. of ITERATIONS REACHED LIMIT.\n",
      "\n",
      "Increase the number of iterations (max_iter) or scale the data as shown in:\n",
      "    https://scikit-learn.org/stable/modules/preprocessing.html\n",
      "  self.n_iter_ = _check_optimize_result(\"lbfgs\", opt_res, self.max_iter)\n",
      "/home/regis/.local/lib/python3.10/site-packages/sklearn/neural_network/_multilayer_perceptron.py:536: ConvergenceWarning: lbfgs failed to converge (status=1):\n",
      "STOP: TOTAL NO. of ITERATIONS REACHED LIMIT.\n",
      "\n",
      "Increase the number of iterations (max_iter) or scale the data as shown in:\n",
      "    https://scikit-learn.org/stable/modules/preprocessing.html\n",
      "  self.n_iter_ = _check_optimize_result(\"lbfgs\", opt_res, self.max_iter)\n",
      "/home/regis/.local/lib/python3.10/site-packages/sklearn/neural_network/_multilayer_perceptron.py:536: ConvergenceWarning: lbfgs failed to converge (status=1):\n",
      "STOP: TOTAL NO. of ITERATIONS REACHED LIMIT.\n",
      "\n",
      "Increase the number of iterations (max_iter) or scale the data as shown in:\n",
      "    https://scikit-learn.org/stable/modules/preprocessing.html\n",
      "  self.n_iter_ = _check_optimize_result(\"lbfgs\", opt_res, self.max_iter)\n",
      "/home/regis/.local/lib/python3.10/site-packages/sklearn/neural_network/_multilayer_perceptron.py:536: ConvergenceWarning: lbfgs failed to converge (status=1):\n",
      "STOP: TOTAL NO. of ITERATIONS REACHED LIMIT.\n",
      "\n",
      "Increase the number of iterations (max_iter) or scale the data as shown in:\n",
      "    https://scikit-learn.org/stable/modules/preprocessing.html\n",
      "  self.n_iter_ = _check_optimize_result(\"lbfgs\", opt_res, self.max_iter)\n",
      "/home/regis/.local/lib/python3.10/site-packages/sklearn/neural_network/_multilayer_perceptron.py:536: ConvergenceWarning: lbfgs failed to converge (status=1):\n",
      "STOP: TOTAL NO. of ITERATIONS REACHED LIMIT.\n",
      "\n",
      "Increase the number of iterations (max_iter) or scale the data as shown in:\n",
      "    https://scikit-learn.org/stable/modules/preprocessing.html\n",
      "  self.n_iter_ = _check_optimize_result(\"lbfgs\", opt_res, self.max_iter)\n",
      "/home/regis/.local/lib/python3.10/site-packages/sklearn/neural_network/_multilayer_perceptron.py:536: ConvergenceWarning: lbfgs failed to converge (status=1):\n",
      "STOP: TOTAL NO. of ITERATIONS REACHED LIMIT.\n",
      "\n",
      "Increase the number of iterations (max_iter) or scale the data as shown in:\n",
      "    https://scikit-learn.org/stable/modules/preprocessing.html\n",
      "  self.n_iter_ = _check_optimize_result(\"lbfgs\", opt_res, self.max_iter)\n",
      "/home/regis/.local/lib/python3.10/site-packages/sklearn/neural_network/_multilayer_perceptron.py:536: ConvergenceWarning: lbfgs failed to converge (status=1):\n",
      "STOP: TOTAL NO. of ITERATIONS REACHED LIMIT.\n",
      "\n",
      "Increase the number of iterations (max_iter) or scale the data as shown in:\n",
      "    https://scikit-learn.org/stable/modules/preprocessing.html\n",
      "  self.n_iter_ = _check_optimize_result(\"lbfgs\", opt_res, self.max_iter)\n",
      "/home/regis/.local/lib/python3.10/site-packages/sklearn/neural_network/_multilayer_perceptron.py:536: ConvergenceWarning: lbfgs failed to converge (status=1):\n",
      "STOP: TOTAL NO. of ITERATIONS REACHED LIMIT.\n",
      "\n",
      "Increase the number of iterations (max_iter) or scale the data as shown in:\n",
      "    https://scikit-learn.org/stable/modules/preprocessing.html\n",
      "  self.n_iter_ = _check_optimize_result(\"lbfgs\", opt_res, self.max_iter)\n",
      "/home/regis/.local/lib/python3.10/site-packages/sklearn/neural_network/_multilayer_perceptron.py:536: ConvergenceWarning: lbfgs failed to converge (status=1):\n",
      "STOP: TOTAL NO. of ITERATIONS REACHED LIMIT.\n",
      "\n",
      "Increase the number of iterations (max_iter) or scale the data as shown in:\n",
      "    https://scikit-learn.org/stable/modules/preprocessing.html\n",
      "  self.n_iter_ = _check_optimize_result(\"lbfgs\", opt_res, self.max_iter)\n",
      "/home/regis/.local/lib/python3.10/site-packages/sklearn/neural_network/_multilayer_perceptron.py:536: ConvergenceWarning: lbfgs failed to converge (status=1):\n",
      "STOP: TOTAL NO. of ITERATIONS REACHED LIMIT.\n",
      "\n",
      "Increase the number of iterations (max_iter) or scale the data as shown in:\n",
      "    https://scikit-learn.org/stable/modules/preprocessing.html\n",
      "  self.n_iter_ = _check_optimize_result(\"lbfgs\", opt_res, self.max_iter)\n",
      "/home/regis/.local/lib/python3.10/site-packages/sklearn/neural_network/_multilayer_perceptron.py:536: ConvergenceWarning: lbfgs failed to converge (status=1):\n",
      "STOP: TOTAL NO. of ITERATIONS REACHED LIMIT.\n",
      "\n",
      "Increase the number of iterations (max_iter) or scale the data as shown in:\n",
      "    https://scikit-learn.org/stable/modules/preprocessing.html\n",
      "  self.n_iter_ = _check_optimize_result(\"lbfgs\", opt_res, self.max_iter)\n",
      "/home/regis/.local/lib/python3.10/site-packages/sklearn/neural_network/_multilayer_perceptron.py:536: ConvergenceWarning: lbfgs failed to converge (status=1):\n",
      "STOP: TOTAL NO. of ITERATIONS REACHED LIMIT.\n",
      "\n",
      "Increase the number of iterations (max_iter) or scale the data as shown in:\n",
      "    https://scikit-learn.org/stable/modules/preprocessing.html\n",
      "  self.n_iter_ = _check_optimize_result(\"lbfgs\", opt_res, self.max_iter)\n",
      "/home/regis/.local/lib/python3.10/site-packages/sklearn/neural_network/_multilayer_perceptron.py:536: ConvergenceWarning: lbfgs failed to converge (status=1):\n",
      "STOP: TOTAL NO. of ITERATIONS REACHED LIMIT.\n",
      "\n",
      "Increase the number of iterations (max_iter) or scale the data as shown in:\n",
      "    https://scikit-learn.org/stable/modules/preprocessing.html\n",
      "  self.n_iter_ = _check_optimize_result(\"lbfgs\", opt_res, self.max_iter)\n"
     ]
    },
    {
     "data": {
      "image/png": "[encoded data removed]",
      "text/plain": [
       "<Figure size 640x480 with 2 Axes>"
      ]
     },
     "metadata": {},
     "output_type": "display_data"
    }
   ],
   "source": [
    "params = {\n",
    "    #'solver':['lbfgs', 'sgd', 'adam'],\n",
    "    'activation' : ['identity', 'logistic', 'tanh', 'relu'],\n",
    "    'learning_rate_init': [0.001,0.01,0.1]\n",
    "}\n",
    "\n",
    "lr_grid = GridSearchCV(MLPClassifier(solver='lbfgs', alpha=1e-5, hidden_layer_sizes=(5, 2), random_state=1),params, cv=5, verbose=2, n_jobs=-1)\n",
    "lr_grid.fit(x_train, y_train)\n",
    "\n",
    "y_predict=lr_grid.predict(x_test)\n",
    "cm=confusion_matrix(y_test, y_predict)\n",
    "plot_cm(cm)"
   ]
  },
  {
   "cell_type": "code",
   "execution_count": 63,
   "id": "3af87618",
   "metadata": {},
   "outputs": [
    {
     "data": {
      "text/plain": [
       "(0.8054872280037844, 0.7989957193728802, 0.8021379793474831, None)"
      ]
     },
     "execution_count": 63,
     "metadata": {},
     "output_type": "execute_result"
    },
    {
     "name": "stdout",
     "output_type": "stream",
     "text": [
      "[CV] END ......activation=identity, learning_rate_init=0.001; total time=   0.4s\n",
      "[CV] END ......activation=logistic, learning_rate_init=0.001; total time=   1.3s\n",
      "[CV] END ........activation=logistic, learning_rate_init=0.1; total time=   1.3s\n",
      "[CV] END ..........activation=relu, learning_rate_init=0.001; total time=   0.8s\n",
      "[CV] END .......activation=identity, learning_rate_init=0.01; total time=   0.4s\n",
      "[CV] END .......activation=logistic, learning_rate_init=0.01; total time=   1.3s\n",
      "[CV] END ...........activation=tanh, learning_rate_init=0.01; total time=   0.4s\n",
      "[CV] END ............activation=tanh, learning_rate_init=0.1; total time=   0.4s\n",
      "[CV] END ..........activation=relu, learning_rate_init=0.001; total time=   1.2s\n",
      "[CV] END ......activation=identity, learning_rate_init=0.001; total time=   0.4s\n",
      "[CV] END ......activation=logistic, learning_rate_init=0.001; total time=   1.3s\n",
      "[CV] END ........activation=logistic, learning_rate_init=0.1; total time=   1.4s\n",
      "[CV] END ...........activation=relu, learning_rate_init=0.01; total time=   0.7s\n",
      "[CV] END ......activation=identity, learning_rate_init=0.001; total time=   0.3s\n",
      "[CV] END ........activation=identity, learning_rate_init=0.1; total time=   0.3s\n",
      "[CV] END ........activation=logistic, learning_rate_init=0.1; total time=   1.3s\n",
      "[CV] END ...........activation=tanh, learning_rate_init=0.01; total time=   1.3s\n",
      "[CV] END ...........activation=relu, learning_rate_init=0.01; total time=   0.7s\n",
      "[CV] END ........activation=identity, learning_rate_init=0.1; total time=   0.4s\n",
      "[CV] END .......activation=logistic, learning_rate_init=0.01; total time=   1.3s\n",
      "[CV] END ...........activation=tanh, learning_rate_init=0.01; total time=   1.4s\n",
      "[CV] END ...........activation=relu, learning_rate_init=0.01; total time=   0.4s\n",
      "[CV] END ............activation=relu, learning_rate_init=0.1; total time=   0.3s\n",
      "[CV] END .......activation=identity, learning_rate_init=0.01; total time=   0.3s\n",
      "[CV] END ......activation=logistic, learning_rate_init=0.001; total time=   1.2s\n",
      "[CV] END ........activation=logistic, learning_rate_init=0.1; total time=   1.3s\n",
      "[CV] END ..........activation=relu, learning_rate_init=0.001; total time=   1.0s\n",
      "[CV] END .......activation=identity, learning_rate_init=0.01; total time=   0.4s\n",
      "[CV] END .......activation=logistic, learning_rate_init=0.01; total time=   1.2s\n",
      "[CV] END ..........activation=tanh, learning_rate_init=0.001; total time=   0.4s\n",
      "[CV] END ...........activation=tanh, learning_rate_init=0.01; total time=   0.4s\n",
      "[CV] END ............activation=tanh, learning_rate_init=0.1; total time=   0.4s\n",
      "[CV] END ..........activation=relu, learning_rate_init=0.001; total time=   0.5s\n",
      "[CV] END ............activation=relu, learning_rate_init=0.1; total time=   0.5s\n",
      "[CV] END .......activation=identity, learning_rate_init=0.01; total time=   0.4s\n",
      "[CV] END ......activation=logistic, learning_rate_init=0.001; total time=   1.3s\n",
      "[CV] END ..........activation=tanh, learning_rate_init=0.001; total time=   1.4s\n",
      "[CV] END ...........activation=relu, learning_rate_init=0.01; total time=   1.0s\n",
      "[CV] END ........activation=identity, learning_rate_init=0.1; total time=   0.4s\n",
      "[CV] END .......activation=logistic, learning_rate_init=0.01; total time=   1.3s\n",
      "[CV] END ..........activation=tanh, learning_rate_init=0.001; total time=   1.3s\n",
      "[CV] END ...........activation=relu, learning_rate_init=0.01; total time=   1.0s\n",
      "[CV] END ......activation=identity, learning_rate_init=0.001; total time=   0.4s\n",
      "[CV] END ........activation=identity, learning_rate_init=0.1; total time=   0.3s\n",
      "[CV] END ........activation=logistic, learning_rate_init=0.1; total time=   1.3s\n",
      "[CV] END ...........activation=tanh, learning_rate_init=0.01; total time=   0.5s\n",
      "[CV] END ............activation=tanh, learning_rate_init=0.1; total time=   1.3s\n",
      "[CV] END ............activation=relu, learning_rate_init=0.1; total time=   0.4s\n",
      "[CV] END ......activation=identity, learning_rate_init=0.001; total time=   0.2s\n",
      "[CV] END ........activation=identity, learning_rate_init=0.1; total time=   0.4s\n",
      "[CV] END .......activation=logistic, learning_rate_init=0.01; total time=   1.2s\n",
      "[CV] END ..........activation=tanh, learning_rate_init=0.001; total time=   0.4s\n",
      "[CV] END ............activation=tanh, learning_rate_init=0.1; total time=   1.4s\n",
      "[CV] END ............activation=relu, learning_rate_init=0.1; total time=   0.6s\n",
      "[CV] END .......activation=identity, learning_rate_init=0.01; total time=   0.4s\n",
      "[CV] END ......activation=logistic, learning_rate_init=0.001; total time=   1.3s\n",
      "[CV] END ..........activation=tanh, learning_rate_init=0.001; total time=   0.5s\n",
      "[CV] END ............activation=tanh, learning_rate_init=0.1; total time=   0.5s\n",
      "[CV] END ..........activation=relu, learning_rate_init=0.001; total time=   0.6s\n",
      "[CV] END ............activation=relu, learning_rate_init=0.1; total time=   0.9s\n"
     ]
    }
   ],
   "source": [
    "precision_recall_fscore_support(y_test, y_predict, average='macro')"
   ]
  },
  {
   "cell_type": "markdown",
   "id": "7685eb8a",
   "metadata": {},
   "source": [
    "# os resultados, \n",
    "# e conclusões. "
   ]
  },
  {
   "cell_type": "markdown",
   "id": "b2392cdd",
   "metadata": {},
   "source": [
    "Os databases em formato csv e os códigos python podem ser acessados no\n",
    "repositório: https://github.com/regisalbuquerque/ia_trab01"
   ]
  },
  {
   "cell_type": "markdown",
   "id": "8fee6f14",
   "metadata": {},
   "source": [
    "## Conclusão\n",
    "\n"
   ]
  }
 ],
 "metadata": {
  "kernelspec": {
   "display_name": "Python 3 (ipykernel)",
   "language": "python",
   "name": "python3"
  },
  "language_info": {
   "codemirror_mode": {
    "name": "ipython",
    "version": 3
   },
   "file_extension": ".py",
   "mimetype": "text/x-python",
   "name": "python",
   "nbconvert_exporter": "python",
   "pygments_lexer": "ipython3",
   "version": "3.10.6"
  }
 },
 "nbformat": 4,
 "nbformat_minor": 5
}
